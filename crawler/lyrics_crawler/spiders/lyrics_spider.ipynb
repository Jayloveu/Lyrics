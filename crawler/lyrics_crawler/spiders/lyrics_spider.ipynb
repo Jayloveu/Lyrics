{
 "cells": [
  {
   "cell_type": "code",
   "execution_count": 15,
   "metadata": {
    "collapsed": true
   },
   "outputs": [],
   "source": [
    "import scrapy, logging"
   ]
  },
  {
   "cell_type": "code",
   "execution_count": 10,
   "metadata": {
    "collapsed": true
   },
   "outputs": [],
   "source": [
    "class LyricsSpider(scrapy.Spider):\n",
    "    name = \"lyrics\"\n",
    "    \n",
    "    start_urls = [\n",
    "        'http://www.lrcgc.com/lyric-106-276252.html',\n",
    "    ]\n",
    "\n",
    "    allowed_domains = [\n",
    "        'lrcgc.com'\n",
    "    ]\n",
    "    \n",
    "    def parse(self, response):\n",
    "        for lrc in response.css('#J_downlrc::attr(href)').extract():\n",
    "            yield response.follow(lrc, callback=self.parse_lrc)\n",
    "\n",
    "        for href in response.css('a::attr(href)'):\n",
    "            yield response.follow(href, callback=self.parse)\n",
    "    \n",
    "    def parse_lrc(self, response):\n",
    "        yield {\n",
    "            'title': response.headers['Content-Disposition'].decode('utf-8')[22:-1],\n",
    "            'lyric': response.body.decode('utf-8')\n",
    "        }"
   ]
  }
 ],
 "metadata": {
  "kernelspec": {
   "display_name": "Python 3",
   "language": "python",
   "name": "python3"
  },
  "language_info": {
   "codemirror_mode": {
    "name": "ipython",
    "version": 3
   },
   "file_extension": ".py",
   "mimetype": "text/x-python",
   "name": "python",
   "nbconvert_exporter": "python",
   "pygments_lexer": "ipython3",
   "version": "3.6.2"
  }
 },
 "nbformat": 4,
 "nbformat_minor": 2
}
