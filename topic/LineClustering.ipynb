{
 "cells": [
  {
   "cell_type": "markdown",
   "metadata": {},
   "source": [
    "## Preprocess"
   ]
  },
  {
   "cell_type": "code",
   "execution_count": 1,
   "metadata": {},
   "outputs": [],
   "source": [
    "import pickle, random, re\n",
    "\n",
    "lyrics = pickle.load(open('saved/lyrics_filtered.pkl', 'rb'))\n",
    "random.shuffle(lyrics)\n",
    "\n",
    "dev_lyrics = lyrics[:500]"
   ]
  },
  {
   "cell_type": "code",
   "execution_count": 2,
   "metadata": {},
   "outputs": [],
   "source": [
    "import numpy as np\n",
    "\n",
    "from gensim.models import Word2Vec\n",
    "\n",
    "import thulac"
   ]
  },
  {
   "cell_type": "code",
   "execution_count": 3,
   "metadata": {},
   "outputs": [
    {
     "name": "stdout",
     "output_type": "stream",
     "text": [
      "Model loaded succeed\n"
     ]
    }
   ],
   "source": [
    "class Doc():\n",
    "    \n",
    "    model = Word2Vec.load('saved/word2vec_model')\n",
    "    cut = thulac.thulac(seg_only=True)  #只进行分词，不进行词性标注\\n\"\n",
    "    \n",
    "    corpus = []\n",
    "    \n",
    "    def __init__(self, document, tokenizer = 'char'):\n",
    "        '''Doc class, a representation of document.\n",
    "        \n",
    "        @param document: A Chinese sentence.\n",
    "        @param tokenizer: the tokenizer(char/word)\n",
    "        '''\n",
    "        if tokenizer == 'char':\n",
    "            self.bag_of_words = list(document)\n",
    "        if tokenizer == 'word':\n",
    "            self.bag_of_words = list(list(zip(*Doc.cut.cut(sentence)))[0])\n",
    "        \n",
    "        self.vec = self.to_vec()\n",
    "        \n",
    "        Doc.corpus.append(self)\n",
    "    \n",
    "    def to_vec(self):\n",
    "        vec = np.zeros(512, dtype='float')\n",
    "        for word in self.bag_of_words:\n",
    "            if word in Doc.model.wv:\n",
    "                vec += Doc.model.wv[word]\n",
    "            else:\n",
    "                for char in word:\n",
    "                    vec += Doc.model.wv[char] if char in Doc.model.wv else 0\n",
    "\n",
    "        return vec / np.linalg.norm(vec) if np.linalg.norm(vec) > 0 else vec\n",
    "\n",
    "    def similarity(doc1, doc2):\n",
    "        '''Return the cosine distance between two sentences.'''\n",
    "        return np.dot(doc1.vec, doc2.vec)\n",
    "\n",
    "    def most_similar(self):\n",
    "        '''Find the most similar sentence in the corpus.\n",
    "\n",
    "        Similar defined as cosine distance.\n",
    "        '''\n",
    "        most_simi, winner = 0, Doc('')\n",
    "\n",
    "        for i, candidate in enumerate(Doc.corpus):\n",
    "            simi = Doc.similarity(self, candidate)\n",
    "            if simi > most_simi and candidate.bag_of_words != self.bag_of_words:\n",
    "                most_simi, winner = simi, candidate\n",
    "\n",
    "        return most_simi, ''.join(winner.bag_of_words)\n",
    "    \n",
    "    def test():\n",
    "        '''Unit test & usage'''\n",
    "        sentence1 = '天青色等烟雨'\n",
    "        doc1 = Doc(sentence1)\n",
    "        print('Tokenized and word vec[:10] of %s:' % sentence1)\n",
    "        print(doc1.bag_of_words)\n",
    "        print(doc1.to_vec()[:10])\n",
    "        print('')\n",
    "        print('Most similar word to 河流')\n",
    "        print(Doc.model.most_similar('河流'))\n",
    "        print('')\n",
    "        sentence2 = '而我在等你'\n",
    "        doc2 = Doc(sentence2)\n",
    "        print('Similarity between %s, %s' % (sentence1, sentence2))\n",
    "        print(Doc.similarity(doc1, doc2))\n",
    "        print('')\n",
    "        print('Most similar to %s in corpus' % sentence1)\n",
    "        print(doc1.most_similar())\n",
    "        print('')"
   ]
  },
  {
   "cell_type": "code",
   "execution_count": 4,
   "metadata": {},
   "outputs": [],
   "source": [
    "def load_lyrics(lyrics):\n",
    "    Doc.corpus = []\n",
    "    for lyric in lyrics:\n",
    "        for sentence in lyric:\n",
    "            Doc(sentence)\n",
    "\n",
    "load_lyrics(dev_lyrics)"
   ]
  },
  {
   "cell_type": "code",
   "execution_count": 5,
   "metadata": {
    "scrolled": false
   },
   "outputs": [
    {
     "name": "stdout",
     "output_type": "stream",
     "text": [
      "Tokenized and word vec[:10] of 天青色等烟雨:\n",
      "['天', '青', '色', '等', '烟', '雨']\n",
      "[-0.01485717  0.0193655  -0.00730191 -0.03039845 -0.00163739  0.02942444\n",
      " -0.07133354 -0.07417747  0.03933919 -0.02917195]\n",
      "\n",
      "Most similar word to 河流\n",
      "[('奔腾', 0.675121545791626), ('稻香', 0.6594686508178711), ('原野', 0.6528366804122925), ('穿行', 0.6512413620948792), ('海洋', 0.6460176110267639), ('流淌啊', 0.6350507140159607), ('山间', 0.6339350938796997), ('旷野', 0.6277040839195251), ('江河', 0.6272122263908386), ('高原', 0.626851499080658)]\n",
      "\n",
      "Similarity between 天青色等烟雨, 而我在等你\n",
      "0.36849127679\n",
      "\n",
      "Most similar to 天青色等烟雨 in corpus\n",
      "(0.80197426198757493, '天黑黑 欲落雨')\n",
      "\n"
     ]
    }
   ],
   "source": [
    "Doc.test()"
   ]
  }
 ],
 "metadata": {
  "kernelspec": {
   "display_name": "Python [conda env:cqb]",
   "language": "python",
   "name": "conda-env-cqb-py"
  },
  "language_info": {
   "codemirror_mode": {
    "name": "ipython",
    "version": 3
   },
   "file_extension": ".py",
   "mimetype": "text/x-python",
   "name": "python",
   "nbconvert_exporter": "python",
   "pygments_lexer": "ipython3",
   "version": "3.6.3"
  }
 },
 "nbformat": 4,
 "nbformat_minor": 2
}
