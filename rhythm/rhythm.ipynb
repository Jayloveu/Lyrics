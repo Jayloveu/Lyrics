{
 "cells": [
  {
   "cell_type": "code",
   "execution_count": 1,
   "metadata": {
    "collapsed": true,
    "nbpresent": {
     "id": "218c6835-dfb5-4f61-bf25-8743a49d4ca0"
    }
   },
   "outputs": [],
   "source": [
    "import json\n",
    "import pypinyin\n",
    "import numpy as np\n",
    "from gensim.models import Word2Vec\n",
    "import thulac"
   ]
  },
  {
   "cell_type": "markdown",
   "metadata": {},
   "source": [
    "## Load"
   ]
  },
  {
   "cell_type": "code",
   "execution_count": 2,
   "metadata": {},
   "outputs": [
    {
     "name": "stdout",
     "output_type": "stream",
     "text": [
      "Loading...\n",
      "Loading complete!\n"
     ]
    }
   ],
   "source": [
    "print('Loading...')\n",
    "\n",
    "characterFrequency = json.load(open('singleCharacterFrequency.json', 'r'))\n",
    "characters = list(characterFrequency.keys())\n",
    "char_finals = [ pypinyin.pinyin(char, style=pypinyin.Style.FINALS)[0][0] for char in characters]\n",
    "char_initials = [ pypinyin.pinyin(char, style=pypinyin.Style.INITIALS)[0][0] for char in characters]\n",
    "tupleCharacterFrequency = json.load(open('tupleCharacterFrequency.json', 'r'))\n",
    "characterFrequency[''] = 0\n",
    "for key in characterFrequency:\n",
    "    characterFrequency[''] += characterFrequency[key]\n",
    "characterFrequency.update(tupleCharacterFrequency)\n",
    "\n",
    "with_prev_freq = [np.array(\\\n",
    "        [ float(characterFrequency.get(prev + char, 0)) / characterFrequency.get(prev, 1) for prev in characters ])\n",
    "                 for char in characters]\n",
    "\n",
    "\n",
    "print('Loading complete!')"
   ]
  },
  {
   "cell_type": "markdown",
   "metadata": {},
   "source": [
    "## 2-gram"
   ]
  },
  {
   "cell_type": "code",
   "execution_count": 3,
   "metadata": {
    "collapsed": true,
    "nbpresent": {
     "id": "bb322450-2eb6-4f2e-b624-60a5e7e34d2f"
    }
   },
   "outputs": [],
   "source": [
    "def predict_phrase_2gram(line, num_view=20):\n",
    "    '''Predict the most frequent phrases that satisfiy the rhythm\n",
    "    \n",
    "    line: the previous line, ex: ['i', 'ao']\n",
    "    num_view: the number of phrases that returned\n",
    "    '''\n",
    "    finals = [li[0] for li in pypinyin.pinyin(line, style=pypinyin.Style.FINALS)]\n",
    "    initials = [li[0] for li in pypinyin.pinyin(line, style=pypinyin.Style.INITIALS)]\n",
    "    \n",
    "    phrase_length = len(finals)\n",
    "    vocab_size = len(characters)\n",
    "    \n",
    "    probability = np.zeros([phrase_length, vocab_size], dtype='float')\n",
    "    path = np.zeros([phrase_length, vocab_size], dtype='int') - 1\n",
    "    for idx, char in enumerate(characters):\n",
    "        if char_finals[idx] == finals[0] and char_initials[idx] != initials[0]:\n",
    "            probability[0][idx] = characterFrequency[char]\n",
    "\n",
    "    for k in range(1, phrase_length):\n",
    "        for idx, char in enumerate(characters):\n",
    "            if char_finals[idx] == finals[k]:                \n",
    "                probability[k][idx] = np.max(probability[k - 1] * with_prev_freq[idx])\n",
    "                if probability[k][idx] > 0:\n",
    "                    path[k][idx] = np.argmax(probability[k - 1] * with_prev_freq[idx])\n",
    "    \n",
    "    def path2phrase(k, idx):\n",
    "        phrase = ''\n",
    "        while k >= 0:\n",
    "            if idx == -1: return None\n",
    "            phrase = characters[idx] + phrase\n",
    "            idx = path[k][idx]\n",
    "            k -= 1\n",
    "        return phrase\n",
    "\n",
    "    return [path2phrase(phrase_length - 1, idx)\\\n",
    "            for idx in np.argsort(probability[phrase_length - 1])[::-1][:num_view]\\\n",
    "            if probability[phrase_length - 1][idx] > 0]"
   ]
  },
  {
   "cell_type": "code",
   "execution_count": 5,
   "metadata": {},
   "outputs": [
    {
     "name": "stdout",
     "output_type": "stream",
     "text": [
      "['曾经', '生命', '证明', '梦醒', '梦境', '冷静', '能听', '能停', '冷清', '更精', '能轻', '能令', '冷冰', '生情', '能平', '能幸', '生病', '成行', '成名', '灯影']\n",
      "['慢慢', '看看', '淡淡', '漫漫', '蔓延', '弯弯', '单单', '蓝蓝', '满满', '闪闪', '晚安', '山万', '满山', '反反', '晚餐', '泛滥', '阑珊', '扮演', '贪婪', '缠缠']\n",
      "['知道爱到', '知道还要', '知道还好', '只要再找', '知道爱早', '只要太少', '知道在脑', '只要再高', '只要再逃', '只要再抱', '只要再靠', '起摇摆摇', '知道在草', '只要再遥', '知道彩照', '知道该抛', '知道外套', '知道该告', '知道爱老', '知道该保']\n",
      "['民警报答允许能', '民警报答允许更', '民警报答允许生', '民警报答允许等', '民警报答允许梦', '民警报答允许曾', '民警报答允许风', '民警报答允许承', '民警报答允许成', '民警报答允许正', '民警报答允许冷', '民警报答允许恒', '民警报答允许挣', '民警报答允许朋', '尽情到那春雨声', '民警报答驯服整', '民警报答允许剩', '民警报答允许胜', '民警报答允许灯', '民警报答允许疯']\n"
     ]
    }
   ],
   "source": [
    "if __name__ == '__main__':\n",
    "    print(predict_phrase_2gram('风景'))\n",
    "    print(predict_phrase_2gram('灿烂'))\n",
    "    print(predict_phrase_2gram('倚老卖老'))\n",
    "    print(predict_phrase_2gram('心境高雅韵如风'))"
   ]
  },
  {
   "cell_type": "markdown",
   "metadata": {},
   "source": [
    "## Meaning satisfying rhythm"
   ]
  },
  {
   "cell_type": "code",
   "execution_count": 2,
   "metadata": {
    "collapsed": true
   },
   "outputs": [],
   "source": [
    "def all_rhyme(word_x, word_y):\n",
    "    if len(word_x) == len(word_y):\n",
    "        finals_x = [li[0] for li in pypinyin.pinyin(word_x, style=pypinyin.Style.FINALS)]\n",
    "        initials_x = [li[0] for li in pypinyin.pinyin(word_x, style=pypinyin.Style.INITIALS)]\n",
    "        finals_y = [li[0] for li in pypinyin.pinyin(word_y, style=pypinyin.Style.FINALS)]\n",
    "        initials_y = [li[0] for li in pypinyin.pinyin(word_y, style=pypinyin.Style.INITIALS)]\n",
    "\n",
    "        for i in range(len(word_x)):\n",
    "            if finals_x[i] != finals_y[i] or (i == 0 and initials_x[i] == initials_y[i]):\n",
    "                return False\n",
    "        return True\n",
    "    return False"
   ]
  },
  {
   "cell_type": "code",
   "execution_count": 315,
   "metadata": {},
   "outputs": [
    {
     "name": "stdout",
     "output_type": "stream",
     "text": [
      "Model loaded succeed\n"
     ]
    }
   ],
   "source": [
    "model = Word2Vec.load('word2vec_model')\n",
    "cut = thulac.thulac(seg_only=True)\n",
    "\n",
    "def predict_phrase_embedding(line, num_view=20):\n",
    "    words = list(zip(*cut.cut(line)))[0]\n",
    "    d = {}\n",
    "    for word in words:\n",
    "        try:\n",
    "            d[word] = [candidate for candidate in list(zip(*model.most_similar(word, topn=len(model.wv.vocab))))[0]\\\n",
    "                       if all_rhyme(candidate, word)][:num_view]\n",
    "        except Exception:\n",
    "            d[word] = []\n",
    "            \n",
    "    return d"
   ]
  },
  {
   "cell_type": "code",
   "execution_count": 316,
   "metadata": {},
   "outputs": [
    {
     "name": "stdout",
     "output_type": "stream",
     "text": [
      "{'风景': ['冷清', '澄庆', '生命', '梦请', '梦醒', '盛情', '恒星', '横行', '更醒', '梦听', '狰狞', '生平', '盛行', '圣灵', '灯影', '生灵', '成名', '生情', '诚请', '正定']}\n",
      "{'灿烂': ['蜿蜒', '冉冉', '黯淡', '烂漫', '繁衍', '蔓延', '暗淡', '婉婉', '漫延', '闪闪', '严寒', '赞叹', '烟但', '淡淡', '完满', '蓝看', '斑斑', '沾满', '阑珊', '三万']}\n",
      "{'倚老卖老': []}\n",
      "{'心境': ['引擎', '金星', '贫病', '尽兴', '金陵', '尽庆', '民情', '阴影', '品性', '琴令', '临行', '亲情', '阴晴', '隐型', '隐形', '尽情', '拼命', '进行', '琴请'], '高雅韵': [], '如': ['复', '斧', '初', '絮', '诉', '拂', '余', '惧', '互', '铸', '瀑', '雾', '于', '语', '玉', '覆', '逐', '浮', '须', '取'], '风': ['梦', '蓬', '冷', '嘭', '腾', '捧', '承', '昇', '鲠', '吭', '勐', '迸', '砰', '乘', '正', '怦', '碰', '晟', '证', '僧']}\n"
     ]
    }
   ],
   "source": [
    "if __name__ == '__main__':\n",
    "    print(predict_phrase_embedding('风景'))\n",
    "    print(predict_phrase_embedding('灿烂'))\n",
    "    print(predict_phrase_embedding('倚老卖老'))\n",
    "    print(predict_phrase_embedding('心境高雅韵如风'))"
   ]
  },
  {
   "cell_type": "code",
   "execution_count": 244,
   "metadata": {
    "collapsed": true,
    "nbpresent": {
     "id": "a7e8ebce-746a-4e52-9cd5-04c0ce6c3dbd"
    }
   },
   "outputs": [
    {
     "name": "stdout",
     "output_type": "stream",
     "text": [
      "Please input pinyin:\n",
      "你好\n",
      "['提高', '日报', '制造', '知道', '指导', '是要', '至少', '医药', '提到', '医保', '一套', '思考', '自贸', '依靠', '细胞', '日早', '持召', '是老', '执照', '起草']\n"
     ]
    },
    {
     "ename": "KeyboardInterrupt",
     "evalue": "",
     "output_type": "error",
     "traceback": [
      "\u001b[0;31m---------------------------------------------------------------------------\u001b[0m",
      "\u001b[0;31mKeyboardInterrupt\u001b[0m                         Traceback (most recent call last)",
      "\u001b[0;32m~/anaconda3/envs/dl/lib/python3.6/site-packages/ipykernel/kernelbase.py\u001b[0m in \u001b[0;36m_input_request\u001b[0;34m(self, prompt, ident, parent, password)\u001b[0m\n\u001b[1;32m    729\u001b[0m             \u001b[0;32mtry\u001b[0m\u001b[0;34m:\u001b[0m\u001b[0;34m\u001b[0m\u001b[0m\n\u001b[0;32m--> 730\u001b[0;31m                 \u001b[0mident\u001b[0m\u001b[0;34m,\u001b[0m \u001b[0mreply\u001b[0m \u001b[0;34m=\u001b[0m \u001b[0mself\u001b[0m\u001b[0;34m.\u001b[0m\u001b[0msession\u001b[0m\u001b[0;34m.\u001b[0m\u001b[0mrecv\u001b[0m\u001b[0;34m(\u001b[0m\u001b[0mself\u001b[0m\u001b[0;34m.\u001b[0m\u001b[0mstdin_socket\u001b[0m\u001b[0;34m,\u001b[0m \u001b[0;36m0\u001b[0m\u001b[0;34m)\u001b[0m\u001b[0;34m\u001b[0m\u001b[0m\n\u001b[0m\u001b[1;32m    731\u001b[0m             \u001b[0;32mexcept\u001b[0m \u001b[0mException\u001b[0m\u001b[0;34m:\u001b[0m\u001b[0;34m\u001b[0m\u001b[0m\n",
      "\u001b[0;32m~/anaconda3/envs/dl/lib/python3.6/site-packages/jupyter_client/session.py\u001b[0m in \u001b[0;36mrecv\u001b[0;34m(self, socket, mode, content, copy)\u001b[0m\n\u001b[1;32m    795\u001b[0m         \u001b[0;32mtry\u001b[0m\u001b[0;34m:\u001b[0m\u001b[0;34m\u001b[0m\u001b[0m\n\u001b[0;32m--> 796\u001b[0;31m             \u001b[0mmsg_list\u001b[0m \u001b[0;34m=\u001b[0m \u001b[0msocket\u001b[0m\u001b[0;34m.\u001b[0m\u001b[0mrecv_multipart\u001b[0m\u001b[0;34m(\u001b[0m\u001b[0mmode\u001b[0m\u001b[0;34m,\u001b[0m \u001b[0mcopy\u001b[0m\u001b[0;34m=\u001b[0m\u001b[0mcopy\u001b[0m\u001b[0;34m)\u001b[0m\u001b[0;34m\u001b[0m\u001b[0m\n\u001b[0m\u001b[1;32m    797\u001b[0m         \u001b[0;32mexcept\u001b[0m \u001b[0mzmq\u001b[0m\u001b[0;34m.\u001b[0m\u001b[0mZMQError\u001b[0m \u001b[0;32mas\u001b[0m \u001b[0me\u001b[0m\u001b[0;34m:\u001b[0m\u001b[0;34m\u001b[0m\u001b[0m\n",
      "\u001b[0;32m~/anaconda3/envs/dl/lib/python3.6/site-packages/zmq/sugar/socket.py\u001b[0m in \u001b[0;36mrecv_multipart\u001b[0;34m(self, flags, copy, track)\u001b[0m\n\u001b[1;32m    394\u001b[0m         \"\"\"\n\u001b[0;32m--> 395\u001b[0;31m         \u001b[0mparts\u001b[0m \u001b[0;34m=\u001b[0m \u001b[0;34m[\u001b[0m\u001b[0mself\u001b[0m\u001b[0;34m.\u001b[0m\u001b[0mrecv\u001b[0m\u001b[0;34m(\u001b[0m\u001b[0mflags\u001b[0m\u001b[0;34m,\u001b[0m \u001b[0mcopy\u001b[0m\u001b[0;34m=\u001b[0m\u001b[0mcopy\u001b[0m\u001b[0;34m,\u001b[0m \u001b[0mtrack\u001b[0m\u001b[0;34m=\u001b[0m\u001b[0mtrack\u001b[0m\u001b[0;34m)\u001b[0m\u001b[0;34m]\u001b[0m\u001b[0;34m\u001b[0m\u001b[0m\n\u001b[0m\u001b[1;32m    396\u001b[0m         \u001b[0;31m# have first part already, only loop while more to receive\u001b[0m\u001b[0;34m\u001b[0m\u001b[0;34m\u001b[0m\u001b[0m\n",
      "\u001b[0;32mzmq/backend/cython/socket.pyx\u001b[0m in \u001b[0;36mzmq.backend.cython.socket.Socket.recv (zmq/backend/cython/socket.c:7683)\u001b[0;34m()\u001b[0m\n",
      "\u001b[0;32mzmq/backend/cython/socket.pyx\u001b[0m in \u001b[0;36mzmq.backend.cython.socket.Socket.recv (zmq/backend/cython/socket.c:7460)\u001b[0;34m()\u001b[0m\n",
      "\u001b[0;32mzmq/backend/cython/socket.pyx\u001b[0m in \u001b[0;36mzmq.backend.cython.socket._recv_copy (zmq/backend/cython/socket.c:2344)\u001b[0;34m()\u001b[0m\n",
      "\u001b[0;32m~/anaconda3/envs/dl/lib/python3.6/site-packages/zmq/backend/cython/checkrc.pxd\u001b[0m in \u001b[0;36mzmq.backend.cython.checkrc._check_rc (zmq/backend/cython/socket.c:9621)\u001b[0;34m()\u001b[0m\n",
      "\u001b[0;31mKeyboardInterrupt\u001b[0m: ",
      "\nDuring handling of the above exception, another exception occurred:\n",
      "\u001b[0;31mKeyboardInterrupt\u001b[0m                         Traceback (most recent call last)",
      "\u001b[0;32m<ipython-input-244-0cf8fea114fc>\u001b[0m in \u001b[0;36m<module>\u001b[0;34m()\u001b[0m\n\u001b[1;32m      1\u001b[0m \u001b[0;32mif\u001b[0m \u001b[0m__name__\u001b[0m \u001b[0;34m==\u001b[0m \u001b[0;34m'__main__'\u001b[0m\u001b[0;34m:\u001b[0m\u001b[0;34m\u001b[0m\u001b[0m\n\u001b[1;32m      2\u001b[0m     \u001b[0;32mwhile\u001b[0m \u001b[0;32mTrue\u001b[0m\u001b[0;34m:\u001b[0m\u001b[0;34m\u001b[0m\u001b[0m\n\u001b[0;32m----> 3\u001b[0;31m         \u001b[0mline\u001b[0m \u001b[0;34m=\u001b[0m \u001b[0minput\u001b[0m\u001b[0;34m(\u001b[0m\u001b[0;34m\"Please input pinyin:\\n\"\u001b[0m\u001b[0;34m)\u001b[0m\u001b[0;34m\u001b[0m\u001b[0m\n\u001b[0m\u001b[1;32m      4\u001b[0m         \u001b[0mresult\u001b[0m \u001b[0;34m=\u001b[0m \u001b[0mpredict_phrase\u001b[0m\u001b[0;34m(\u001b[0m\u001b[0mline\u001b[0m\u001b[0;34m)\u001b[0m\u001b[0;34m\u001b[0m\u001b[0m\n\u001b[1;32m      5\u001b[0m \u001b[0;34m\u001b[0m\u001b[0m\n",
      "\u001b[0;32m~/anaconda3/envs/dl/lib/python3.6/site-packages/ipykernel/kernelbase.py\u001b[0m in \u001b[0;36mraw_input\u001b[0;34m(self, prompt)\u001b[0m\n\u001b[1;32m    703\u001b[0m             \u001b[0mself\u001b[0m\u001b[0;34m.\u001b[0m\u001b[0m_parent_ident\u001b[0m\u001b[0;34m,\u001b[0m\u001b[0;34m\u001b[0m\u001b[0m\n\u001b[1;32m    704\u001b[0m             \u001b[0mself\u001b[0m\u001b[0;34m.\u001b[0m\u001b[0m_parent_header\u001b[0m\u001b[0;34m,\u001b[0m\u001b[0;34m\u001b[0m\u001b[0m\n\u001b[0;32m--> 705\u001b[0;31m             \u001b[0mpassword\u001b[0m\u001b[0;34m=\u001b[0m\u001b[0;32mFalse\u001b[0m\u001b[0;34m,\u001b[0m\u001b[0;34m\u001b[0m\u001b[0m\n\u001b[0m\u001b[1;32m    706\u001b[0m         )\n\u001b[1;32m    707\u001b[0m \u001b[0;34m\u001b[0m\u001b[0m\n",
      "\u001b[0;32m~/anaconda3/envs/dl/lib/python3.6/site-packages/ipykernel/kernelbase.py\u001b[0m in \u001b[0;36m_input_request\u001b[0;34m(self, prompt, ident, parent, password)\u001b[0m\n\u001b[1;32m    733\u001b[0m             \u001b[0;32mexcept\u001b[0m \u001b[0mKeyboardInterrupt\u001b[0m\u001b[0;34m:\u001b[0m\u001b[0;34m\u001b[0m\u001b[0m\n\u001b[1;32m    734\u001b[0m                 \u001b[0;31m# re-raise KeyboardInterrupt, to truncate traceback\u001b[0m\u001b[0;34m\u001b[0m\u001b[0;34m\u001b[0m\u001b[0m\n\u001b[0;32m--> 735\u001b[0;31m                 \u001b[0;32mraise\u001b[0m \u001b[0mKeyboardInterrupt\u001b[0m\u001b[0;34m\u001b[0m\u001b[0m\n\u001b[0m\u001b[1;32m    736\u001b[0m             \u001b[0;32melse\u001b[0m\u001b[0;34m:\u001b[0m\u001b[0;34m\u001b[0m\u001b[0m\n\u001b[1;32m    737\u001b[0m                 \u001b[0;32mbreak\u001b[0m\u001b[0;34m\u001b[0m\u001b[0m\n",
      "\u001b[0;31mKeyboardInterrupt\u001b[0m: "
     ]
    }
   ],
   "source": [
    "if __name__ == '__main__':\n",
    "    while True:\n",
    "        line = input(\"Please input pinyin:\\n\")\n",
    "        result = predict_phrase_2gram(line)\n",
    "        print(result)"
   ]
  }
 ],
 "metadata": {
  "kernelspec": {
   "display_name": "Python [default]",
   "language": "python",
   "name": "python3"
  },
  "language_info": {
   "codemirror_mode": {
    "name": "ipython",
    "version": 3
   },
   "file_extension": ".py",
   "mimetype": "text/x-python",
   "name": "python",
   "nbconvert_exporter": "python",
   "pygments_lexer": "ipython3",
   "version": "3.6.3"
  }
 },
 "nbformat": 4,
 "nbformat_minor": 2
}
