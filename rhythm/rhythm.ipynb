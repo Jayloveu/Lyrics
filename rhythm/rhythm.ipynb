{
 "cells": [
  {
   "cell_type": "code",
   "execution_count": null,
   "metadata": {
    "nbpresent": {
     "id": "218c6835-dfb5-4f61-bf25-8743a49d4ca0"
    }
   },
   "outputs": [],
   "source": [
    "import json\n",
    "import pypinyin\n",
    "import numpy as np\n",
    "from gensim.models import Word2Vec"
   ]
  },
  {
   "cell_type": "markdown",
   "metadata": {},
   "source": [
    "## Load"
   ]
  },
  {
   "cell_type": "code",
   "execution_count": 155,
   "metadata": {},
   "outputs": [
    {
     "name": "stdout",
     "output_type": "stream",
     "text": [
      "Loading dictionary...\n",
      "Loading complete!\n"
     ]
    }
   ],
   "source": [
    "print('Loading...')\n",
    "\n",
    "characterFrequency = json.load(open('singleCharacterFrequency.json', 'r'))\n",
    "characters = list(characterFrequency.keys())\n",
    "char_finals = [ pypinyin.pinyin(char, style=pypinyin.Style.FINALS)[0][0] for char in characters]\n",
    "char_initials = [ pypinyin.pinyin(char, style=pypinyin.Style.INITIALS)[0][0] for char in characters]\n",
    "tupleCharacterFrequency = json.load(open('tupleCharacterFrequency.json', 'r'))\n",
    "characterFrequency[''] = 0\n",
    "for key in characterFrequency:\n",
    "    characterFrequency[''] += characterFrequency[key]\n",
    "characterFrequency.update(tupleCharacterFrequency)\n",
    "\n",
    "model = Word2Vec.load('word2vec_model')\n",
    "\n",
    "print('Loading complete!')"
   ]
  },
  {
   "cell_type": "code",
   "execution_count": 201,
   "metadata": {},
   "outputs": [],
   "source": [
    "def similarity(char_x, char_y):\n",
    "    try:\n",
    "        return model.similarity(char_x, char_y)\n",
    "    except Exception:\n",
    "        return 0\n",
    "    \n",
    "def similarity_to_input(line):\n",
    "    return [ np.sum([similarity(char, line_char) for line_char in line]) for char in characters]"
   ]
  },
  {
   "cell_type": "code",
   "execution_count": 240,
   "metadata": {
    "collapsed": true,
    "nbpresent": {
     "id": "bb322450-2eb6-4f2e-b624-60a5e7e34d2f"
    }
   },
   "outputs": [],
   "source": [
    "def predict_phrase(line):\n",
    "    '''Predict the most frequent phrases that satisfiy the rhythm\n",
    "    \n",
    "    line: the previous line, ex: ['i', 'ao']\n",
    "    num_view: the number of phrases that returned\n",
    "    '''\n",
    "    finals = [li[0] for li in pypinyin.pinyin(line, style=pypinyin.Style.FINALS)]\n",
    "    initials = [li[0] for li in pypinyin.pinyin(line, style=pypinyin.Style.INITIALS)]\n",
    "    char_similarity = similarity_to_input(line)\n",
    "    \n",
    "    phrase_length = len(finals)\n",
    "    vocab_size = len(characters)\n",
    "    \n",
    "    probability = np.zeros([phrase_length, vocab_size], dtype='float')\n",
    "    path = np.zeros([phrase_length, vocab_size], dtype='int') - 1\n",
    "    for idx, char in enumerate(characters):\n",
    "        if char_finals[idx] == finals[0] and char_initials[idx] != initials[0]:\n",
    "            probability[0][idx] = characterFrequency[char]\n",
    "\n",
    "    for k in range(1, phrase_length):\n",
    "        for idx, char in enumerate(characters):\n",
    "            if char_finals[idx] == finals[k] and char_initials[idx] != initials[k]:\n",
    "                with_prev_freq = np.array(\\\n",
    "                        [ float(characterFrequency.get(prev + char, 0)) / characterFrequency.get(prev, 1) for prev in characters ])\n",
    "                \n",
    "                probability[k][idx] = np.max(probability[k - 1] * with_prev_freq)\n",
    "                if probability[k][idx] > 0:\n",
    "                    path[k][idx] = np.argmax(probability[k - 1] * with_prev_freq)\n",
    "    \n",
    "    def path2phrase(k, idx):\n",
    "        phrase = ''\n",
    "        while k >= 0:\n",
    "            if idx == -1: return None\n",
    "            phrase = characters[idx] + phrase\n",
    "            idx = path[k][idx]\n",
    "            k -= 1\n",
    "        return phrase\n",
    "    \n",
    "    return [path2phrase(phrase_length - 1, idx)\\\n",
    "            for idx in np.argsort(probability[phrase_length - 1])[::-1]\\\n",
    "            if probability[phrase_length - 1][idx] > 0]"
   ]
  },
  {
   "cell_type": "code",
   "execution_count": null,
   "metadata": {
    "nbpresent": {
     "id": "a7e8ebce-746a-4e52-9cd5-04c0ce6c3dbd"
    }
   },
   "outputs": [
    {
     "name": "stdout",
     "output_type": "stream",
     "text": [
      "Please input pinyin:\n",
      "倚老卖老\n",
      "['持召开招', '持召开到', '持召开好', '是要改造', '细胞胎宝', '持召开高', '细胞胎爆', '持召开考', '知道还要', '持召开报', '持召开道', '持召开跑', '持召开刀', '持召开讨', '持召开导', '持召开药', '持召开包', '细胞胎保', '机号牌照', '持召开凿', '至少外贸', '机号牌号', '知道菜肴', '细胞胎早', '持召开炮', '细胞胎潮', '细胞胎毛', '持召开超', '日早在逃', '提高海岛', '持召开豪', '日早在奥', '日早在朝', '日早在澳', '细胞胎抛', '细胞胎噪', '持召开脑', '持召开倒', '持召开淘', '细胞胎冒', '日早在少', '提高海涛', '日报摘帽', '自豪宅套', '自豪宅遭', '细胞胎盗', '细胞胎抱', '持召开摇', '洗脑袋妖', '细胞胎罩', '知道还邀', '制造百草', '是要再找', '日早在操', '持召开搞', '细胞胎闹', '细胞胎暴', '细胞胎膏', '持召开告', '洗脑袋泡', '日早在靠', '细胞胎槽', '细胞胎薄', '是要改稿', '知道菜炒', '持召开扫', '日早在召', '细胞胎陶', '细胞胎胞', '细胞胎烧', '日早在赵', '提高海豹', '是好莱堡', '日早在桃', '持召开窑', '细胞白皓', '持召开茂', '是要哀悼', '持召开灶', '日早在韶', '日早在邵', '至少外貌', '指导带扰', '持召开曹', '持召开蚝', '持召开哨', '持召开烤', '日早在矛', '食药材熬', '制造百兆', '指导带钥', '日早在腰', '细胞胎羔', '细胞胎肇', '提高海藻', '持召开茅', '洗脑袋掏', '是要再遥', '制造财猫', '日早在浩', '是要再绕', '日早在稻', '自豪宅耗', '持召开咬', '细胞白芍', '日早在毫', '日早在绍', '日早在姚', '持召开抄', '日早在稍', '日早在昭', '细胞代庖', '指导蔡皋', '食药材窈', '持召开篙', '持召开刨', '细胞白袍', '日早在枣', '日早在吵', '日早在耀', '食药材煲', '持召开沼', '知道太昊', '日早在饱', '持召开鏖', '持召开夭', '持召开傲', '持召开澡', '持召开钊', '持召开嘲', '日早在嘈', '知道该谣', '知道还饶', '自豪宅懋', '是好莱韬', '指导带绦', '日早在瑶', '持召开翱', '持召开鳌', '持召开爪', '持召开鲍', '持召开铐', '日早在捣', '知道还巢', '日早在骚', '是要害臊', '瓷窑玳瑁', '细胞白濠', '日早在凹', '日早在郝', '日早在拷', '是靠掰苞', '知道太糟', '知道菜糕', '日早在尧', '细胞白蒿', '日早在趵', '提高钙皂', '日早在吆', '日早在瑙', '知道菜焯', '持召开牦', '持召开梢', '持召开恼', '日早在洮', '日早在咆', '细胞白茆', '日早在诏', '提高海漕', '日早在褒', '日早在滔', '日早在锚', '日早在钞', '是要哀嚎', '知道还捎', '日早在葆', '细胞白呶', '知道菜勺', '日早在懊', '日早在坳', '日早在敖', '提高海垚', '指导带铆', '日早在耄', '日早在祷', '知道菜犒', '知道菜舀', '日早在睾', '提高寨峁', '日早在燥', '日早在拗', '日早在筲', '提高海嫂', '至少外糙', '机号柴槁', '是要戴幺', '日早在躁', '日早在鹞', '提高海螯', '提高海遨', '日早在卯', '日早在壕', '提高排艄', '是要再杳', '知道还叨', '指导蔡曜', '日早在鏊', '细胞白晧', '提到来饕', '指导带挠', '至少外萄', '指导蔡弢', '日报泰镐', '日早在苕', '日早在岙', '日早在嗷', '日早在貉', '日早在晁', '是要再吿', '是要再薅', '持刀宰椃', '指导蔡絛', '至少爱蛸', '提高排奡', '制造百曌', '提高海灏', '提高海盜', '提高海泖', '提高海卲', '知道还瘙', '知道还嗥', '日早在硇', '日早在莦', '日早在淖', '日早在藁', '日早在孢', '日早在旄', '日早在纛', '日早在雹', '日早在匏', '日早在疱', '日早在滈', '日早在郜', '指导蔡皞', '细胞代孬', '细胞代诰', '提到来蟊', '提到来燿', '日报台崾', '至少爱搔', '知道彩锆', '是好态氘']\n",
      "Please input pinyin:\n",
      "提早快跑\n",
      "['细胞衰老', '至少帅高', '知道摔倒', '至少帅到', '是要怀抱', '至少帅爆', '至少帅号', '至少帅告', '至少帅照', '至少帅要', '是搞怪招', '是好坏毛', '至少帅豪', '至少帅报', '至少帅保', '知道拐枣', '至少帅好', '是好坏草', '至少帅遭', '是好坏造', '是好坏朝', '是要甩包', '知道拐少', '知道拐道', '是好坏导', '知道拐逃', '是要乖宝', '是要怀邵', '至少帅赵', '至少帅毫', '至少帅奥', '是好坏考', '至少帅早', '至少帅潮', '是搞怪盗', '是老槐桃', '至少帅劳', '至少帅摇', '至少帅暴', '至少帅稍', '至少帅淘', '至少帅操', '至少帅澳', '是搞怪猫', '持刀揣腰', '是要乖掏', '是要乖幺', '是要怀尧', '是好坏脑', '是搞怪超', '至少帅矛', '至少帅焯', '至少帅靠', '至少帅曹', '至少帅召', '至少帅闹', '至少帅饱', '至少帅郝', '至少帅冒', '至少帅找', '细胞衰耗', '是老槐帽', '是好坏岛', '是要怀药', '是搞怪烤', '是搞怪妖', '知道拐峁', '是好坏窑', '是要怀茂', '是老槐佬', '是好坏搞', '是好坏钞', '是搞怪嘲', '是要怀茅', '是要怀耀', '是好坏牢', '是好坏巢', '是好坏昭', '是好坏捣', '是好坏绕', '是好坏扰', '是好坏遥', '是好坏兆', '是好坏讨', '是好坏藻', '持刀揣扫', '持刀揣刀', '是要怀悼', '是要乖抄', '是要甩烧', '是要怀炒', '知道摔勺', '是要怀浩', '是要怀套', '是要怀邀', '是要拽肇']\n"
     ]
    }
   ],
   "source": [
    "while True:\n",
    "    line = input(\"Please input pinyin:\\n\")\n",
    "    result = predict_phrase(line)\n",
    "\n",
    "    print(result)"
   ]
  }
 ],
 "metadata": {
  "kernelspec": {
   "display_name": "Python [default]",
   "language": "python",
   "name": "python3"
  },
  "language_info": {
   "codemirror_mode": {
    "name": "ipython",
    "version": 3
   },
   "file_extension": ".py",
   "mimetype": "text/x-python",
   "name": "python",
   "nbconvert_exporter": "python",
   "pygments_lexer": "ipython3",
   "version": "3.6.3"
  }
 },
 "nbformat": 4,
 "nbformat_minor": 2
}
