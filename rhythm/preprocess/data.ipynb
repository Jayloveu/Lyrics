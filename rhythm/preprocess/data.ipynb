{
 "cells": [
  {
   "cell_type": "code",
   "execution_count": 13,
   "metadata": {},
   "outputs": [],
   "source": [
    "import re\n",
    "import pickle\n",
    "import numpy as np\n",
    "import preprocess\n",
    "import random\n",
    "import thulac\n",
    "import pypinyin\n",
    "from gensim.models import word2vec\n",
    "import logging"
   ]
  },
  {
   "cell_type": "code",
   "execution_count": 7,
   "metadata": {
    "collapsed": true
   },
   "outputs": [],
   "source": [
    "def load_raw_data():\n",
    "    \"\"\"Return titles and lyrics.\"\"\"\n",
    "    \n",
    "    titles_lyrics = preprocess.load_from_pickle()\n",
    "    if titles_lyrics == None:\n",
    "        preprocess.preprocess()\n",
    "        titles_lyrics = preprocess.load_from_pickle()\n",
    "    return titles_lyrics"
   ]
  },
  {
   "cell_type": "code",
   "execution_count": 3,
   "metadata": {
    "collapsed": true
   },
   "outputs": [],
   "source": [
    "def lyrics_without_timing():\n",
    "    \"\"\"Return a list of lyrics, pure text, no timing\"\"\"\n",
    "    _, lyrics = load_raw_data()\n",
    "#     del_timing = lambda s: re.sub('\\[.*\\]', '', s).strip()\n",
    "#     lyrics = [[del_timing(sentence) for sentence in lyric if del_timing(sentence) != '']\\\n",
    "#              for lyric in lyrics]\n",
    "    \n",
    "    del_not_chinese = lambda s: re.sub(u'[^\\u4E00-\\u9FA5 ]', '', s).strip()\n",
    "    lyrics = [[del_not_chinese(sentence) for sentence in lyric\\\n",
    "               if del_not_chinese(sentence) != ''] for lyric in lyrics]\n",
    "    \n",
    "    lyrics = [[sentence for sentence in lyric\n",
    "               if len(sentence) > 6\n",
    "               and '词曲' not in sentence and '作曲' not in sentence and\n",
    "               '编曲' not in sentence and '作词' not in sentence\n",
    "              ]for lyric in lyrics]\n",
    "\n",
    "    lyrics = [lyric[3:-1] for lyric in lyrics if len(lyric) > 15]\n",
    "    return lyrics"
   ]
  },
  {
   "cell_type": "code",
   "execution_count": 9,
   "metadata": {
    "collapsed": true
   },
   "outputs": [],
   "source": [
    "def cut_and_save(lyrics):\n",
    "    cut = thulac.thulac(seg_only=True)  #只进行分词，不进行词性标注\n",
    "    with open('all_lyrics.txt', 'wb') as f:\n",
    "        print(len(lyrics))\n",
    "        for i, lyric in enumerate(lyrics):\n",
    "            if (i % 1000 == 0):\n",
    "                print(i)\n",
    "            for sentence in lyric:\n",
    "                f.write((' '.join(list(zip(*cut.cut(sentence)))[0])).encode('utf8'))"
   ]
  },
  {
   "cell_type": "code",
   "execution_count": 8,
   "metadata": {
    "collapsed": true
   },
   "outputs": [],
   "source": [
    "def train_word2vec():\n",
    "    logging.basicConfig(format='%(asctime)s : %(levelname)s : %(message)s', level=logging.INFO)\n",
    "    sentences = word2vec.Text8Corpus(\"all_lyrics.txt\")  # 加载语料\n",
    "    model = word2vec.Word2Vec(sentences, size=512)  # 训练skip-gram模型; 默认window=5\n",
    "    model.save('word2vec_model')"
   ]
  },
  {
   "cell_type": "code",
   "execution_count": 116,
   "metadata": {
    "collapsed": true
   },
   "outputs": [],
   "source": [
    "def count_rhythm(lyrics):\n",
    "    rhythm_dict = {}\n",
    "    for lyric in lyrics:\n",
    "        rhythm = [pypinyin.pinyin(sentence, style=pypinyin.Style.FINALS)[-1][0]\\\n",
    "                  for sentence in lyric]\n",
    "\n",
    "        for i in range(2, len(lyric)):\n",
    "            rhythm_dict[(rhythm[i], rhythm[i - 1])] = \\\n",
    "            rhythm_dict.setdefault((rhythm[i], rhythm[i - 1]), 0) + 1\n",
    "            \n",
    "            rhythm_dict[(rhythm[i], rhythm[i - 2])] = \\\n",
    "            rhythm_dict.setdefault((rhythm[i], rhythm[i - 2]), 0) + 1\n",
    "\n",
    "    return rhythm_dict"
   ]
  },
  {
   "cell_type": "code",
   "execution_count": 117,
   "metadata": {
    "collapsed": true
   },
   "outputs": [],
   "source": [
    "rhythm_joint_distribution = count_rhythm(lyrics)"
   ]
  },
  {
   "cell_type": "code",
   "execution_count": 120,
   "metadata": {},
   "outputs": [
    {
     "data": {
      "image/png": "[encoded data removed]",
      "text/plain": [
       "<matplotlib.figure.Figure at 0x111772940>"
      ]
     },
     "metadata": {},
     "output_type": "display_data"
    }
   ],
   "source": [
    "import matplotlib.pyplot as plt\n",
    "% matplotlib inline\n",
    "\n",
    "plt.rcParams['figure.figsize'] = (10,10)\n",
    "\n",
    "pinyin_x = np.unique([key[0][::-1] for key in rhythm_joint_distribution.keys()])\n",
    "pinyin_x = pinyin_x[pinyin_x != '']\n",
    "pinyin_y = np.unique([key[1][::-1] for key in rhythm_joint_distribution.keys()])\n",
    "pinyin_y = pinyin_y[pinyin_y != '']\n",
    "\n",
    "mat = np.zeros([len(pinyin_x), len(pinyin_y)], dtype='float')\n",
    "for i in range(len(pinyin_x)):\n",
    "    for j in range(len(pinyin_y)):\n",
    "        mat[i][j] = rhythm_joint_distribution.get((pinyin_x[i][::-1], pinyin_y[j][::-1]), 0)\n",
    "\n",
    "mat = mat / np.sum(mat, axis=1)\n",
    "\n",
    "fig, ax = plt.subplots()\n",
    "heatmap = ax.pcolor(mat, cmap=plt.cm.Blues)\n",
    "\n",
    "# put the major ticks at the middle of each cell\n",
    "ax.set_xticks(np.arange(mat.shape[1]) + 0.5, minor=False)\n",
    "ax.set_yticks(np.arange(mat.shape[0]) + 0.5, minor=False)\n",
    "\n",
    "# want a more natural, table-like display\n",
    "ax.invert_yaxis()\n",
    "ax.xaxis.tick_top()\n",
    "\n",
    "ax.set_xticklabels([pinyin[::-1] for pinyin in pinyin_y], minor=False)\n",
    "ax.set_yticklabels([pinyin[::-1] for pinyin in pinyin_x], minor=False)\n",
    "plt.show()"
   ]
  },
  {
   "cell_type": "code",
   "execution_count": 119,
   "metadata": {
    "collapsed": true
   },
   "outputs": [],
   "source": [
    "finals_joint_distribution = rhythm_joint_distributionthm_joint_distributionythm_joint_distribution"
   ]
  },
  {
   "cell_type": "code",
   "execution_count": 115,
   "metadata": {
    "collapsed": true
   },
   "outputs": [],
   "source": [
    "# with_initials = rhythm_joint_distribution"
   ]
  },
  {
   "cell_type": "code",
   "execution_count": 14,
   "metadata": {},
   "outputs": [
    {
     "name": "stderr",
     "output_type": "stream",
     "text": [
      "2017-10-25 19:58:06,363 : INFO : collecting all words and their counts\n",
      "2017-10-25 19:58:06,367 : INFO : PROGRESS: at sentence #0, processed 0 words, keeping 0 word types\n",
      "2017-10-25 19:58:10,112 : INFO : collected 848224 word types from a corpus of 12314495 raw words and 1232 sentences\n",
      "2017-10-25 19:58:10,113 : INFO : Loading a fresh vocabulary\n",
      "2017-10-25 19:58:10,672 : INFO : min_count=5 retains 107487 unique words (12% of original 848224, drops 740737)\n",
      "2017-10-25 19:58:10,673 : INFO : min_count=5 leaves 11091384 word corpus (90% of original 12314495, drops 1223111)\n",
      "2017-10-25 19:58:10,897 : INFO : deleting the raw counts dictionary of 848224 items\n",
      "2017-10-25 19:58:10,923 : INFO : sample=0.001 downsamples 50 most-common words\n",
      "2017-10-25 19:58:10,924 : INFO : downsampling leaves estimated 8224217 word corpus (74.1% of prior 11091384)\n",
      "2017-10-25 19:58:10,924 : INFO : estimated required memory for 107487 words and 512 dimensions: 494010252 bytes\n",
      "2017-10-25 19:58:11,228 : INFO : resetting layer weights\n",
      "2017-10-25 19:58:12,653 : INFO : training model with 3 workers on 107487 vocabulary and 512 features, using sg=0 hs=0 sample=0.001 negative=5 window=5\n",
      "2017-10-25 19:58:13,740 : INFO : PROGRESS: at 0.39% examples, 148408 words/s, in_qsize 5, out_qsize 1\n",
      "2017-10-25 19:58:14,742 : INFO : PROGRESS: at 0.91% examples, 179684 words/s, in_qsize 5, out_qsize 0\n",
      "2017-10-25 19:58:15,785 : INFO : PROGRESS: at 1.43% examples, 187783 words/s, in_qsize 5, out_qsize 0\n",
      "2017-10-25 19:58:16,796 : INFO : PROGRESS: at 1.93% examples, 191976 words/s, in_qsize 5, out_qsize 0\n",
      "2017-10-25 19:58:17,857 : INFO : PROGRESS: at 2.47% examples, 195104 words/s, in_qsize 5, out_qsize 0\n",
      "2017-10-25 19:58:18,904 : INFO : PROGRESS: at 3.00% examples, 197793 words/s, in_qsize 5, out_qsize 0\n",
      "2017-10-25 19:58:19,917 : INFO : PROGRESS: at 3.52% examples, 199741 words/s, in_qsize 5, out_qsize 0\n",
      "2017-10-25 19:58:20,919 : INFO : PROGRESS: at 4.03% examples, 200555 words/s, in_qsize 5, out_qsize 0\n",
      "2017-10-25 19:58:21,959 : INFO : PROGRESS: at 4.55% examples, 201235 words/s, in_qsize 5, out_qsize 0\n",
      "2017-10-25 19:58:23,008 : INFO : PROGRESS: at 5.08% examples, 202005 words/s, in_qsize 5, out_qsize 0\n",
      "2017-10-25 19:58:24,038 : INFO : PROGRESS: at 5.62% examples, 202757 words/s, in_qsize 5, out_qsize 0\n",
      "2017-10-25 19:58:25,057 : INFO : PROGRESS: at 6.14% examples, 203128 words/s, in_qsize 5, out_qsize 0\n",
      "2017-10-25 19:58:26,096 : INFO : PROGRESS: at 6.67% examples, 203564 words/s, in_qsize 5, out_qsize 0\n",
      "2017-10-25 19:58:27,097 : INFO : PROGRESS: at 7.18% examples, 203791 words/s, in_qsize 5, out_qsize 0\n",
      "2017-10-25 19:58:28,138 : INFO : PROGRESS: at 7.69% examples, 203810 words/s, in_qsize 5, out_qsize 0\n",
      "2017-10-25 19:58:29,185 : INFO : PROGRESS: at 8.23% examples, 203978 words/s, in_qsize 5, out_qsize 0\n",
      "2017-10-25 19:58:30,227 : INFO : PROGRESS: at 8.77% examples, 204296 words/s, in_qsize 5, out_qsize 0\n",
      "2017-10-25 19:58:31,240 : INFO : PROGRESS: at 9.29% examples, 204545 words/s, in_qsize 5, out_qsize 0\n",
      "2017-10-25 19:58:32,273 : INFO : PROGRESS: at 9.82% examples, 204816 words/s, in_qsize 5, out_qsize 0\n",
      "2017-10-25 19:58:33,292 : INFO : PROGRESS: at 10.34% examples, 204979 words/s, in_qsize 5, out_qsize 0\n",
      "2017-10-25 19:58:34,334 : INFO : PROGRESS: at 10.88% examples, 205058 words/s, in_qsize 5, out_qsize 0\n",
      "2017-10-25 19:58:35,336 : INFO : PROGRESS: at 11.40% examples, 205294 words/s, in_qsize 5, out_qsize 0\n",
      "2017-10-25 19:58:36,363 : INFO : PROGRESS: at 11.92% examples, 205360 words/s, in_qsize 5, out_qsize 0\n",
      "2017-10-25 19:58:37,375 : INFO : PROGRESS: at 12.44% examples, 205565 words/s, in_qsize 5, out_qsize 0\n",
      "2017-10-25 19:58:38,409 : INFO : PROGRESS: at 12.95% examples, 205526 words/s, in_qsize 5, out_qsize 0\n",
      "2017-10-25 19:58:39,415 : INFO : PROGRESS: at 13.47% examples, 205773 words/s, in_qsize 5, out_qsize 0\n",
      "2017-10-25 19:58:40,445 : INFO : PROGRESS: at 13.99% examples, 205683 words/s, in_qsize 5, out_qsize 0\n",
      "2017-10-25 19:58:41,447 : INFO : PROGRESS: at 14.50% examples, 205906 words/s, in_qsize 5, out_qsize 0\n",
      "2017-10-25 19:58:42,481 : INFO : PROGRESS: at 14.98% examples, 206045 words/s, in_qsize 5, out_qsize 0\n",
      "2017-10-25 19:58:43,487 : INFO : PROGRESS: at 15.49% examples, 206061 words/s, in_qsize 5, out_qsize 0\n",
      "2017-10-25 19:58:44,551 : INFO : PROGRESS: at 15.97% examples, 205527 words/s, in_qsize 5, out_qsize 0\n",
      "2017-10-25 19:58:45,575 : INFO : PROGRESS: at 16.46% examples, 205245 words/s, in_qsize 5, out_qsize 0\n",
      "2017-10-25 19:58:46,576 : INFO : PROGRESS: at 16.95% examples, 205254 words/s, in_qsize 5, out_qsize 0\n",
      "2017-10-25 19:58:47,589 : INFO : PROGRESS: at 17.47% examples, 205520 words/s, in_qsize 5, out_qsize 0\n",
      "2017-10-25 19:58:48,621 : INFO : PROGRESS: at 17.97% examples, 205404 words/s, in_qsize 5, out_qsize 0\n",
      "2017-10-25 19:58:49,677 : INFO : PROGRESS: at 18.51% examples, 205530 words/s, in_qsize 5, out_qsize 0\n",
      "2017-10-25 19:58:50,689 : INFO : PROGRESS: at 19.01% examples, 205572 words/s, in_qsize 5, out_qsize 0\n",
      "2017-10-25 19:58:51,706 : INFO : PROGRESS: at 19.53% examples, 205711 words/s, in_qsize 5, out_qsize 0\n",
      "2017-10-25 19:58:52,716 : INFO : PROGRESS: at 20.05% examples, 205799 words/s, in_qsize 5, out_qsize 0\n",
      "2017-10-25 19:58:53,725 : INFO : PROGRESS: at 20.55% examples, 205806 words/s, in_qsize 5, out_qsize 0\n",
      "2017-10-25 19:58:54,737 : INFO : PROGRESS: at 21.07% examples, 205925 words/s, in_qsize 5, out_qsize 0\n",
      "2017-10-25 19:58:55,777 : INFO : PROGRESS: at 21.59% examples, 205901 words/s, in_qsize 5, out_qsize 0\n",
      "2017-10-25 19:58:56,781 : INFO : PROGRESS: at 22.11% examples, 206045 words/s, in_qsize 5, out_qsize 0\n",
      "2017-10-25 19:58:57,795 : INFO : PROGRESS: at 22.61% examples, 206010 words/s, in_qsize 5, out_qsize 0\n",
      "2017-10-25 19:58:58,801 : INFO : PROGRESS: at 23.12% examples, 206018 words/s, in_qsize 5, out_qsize 0\n",
      "2017-10-25 19:58:59,803 : INFO : PROGRESS: at 23.64% examples, 206184 words/s, in_qsize 5, out_qsize 0\n",
      "2017-10-25 19:59:00,810 : INFO : PROGRESS: at 24.14% examples, 206177 words/s, in_qsize 5, out_qsize 0\n",
      "2017-10-25 19:59:01,834 : INFO : PROGRESS: at 24.66% examples, 206236 words/s, in_qsize 5, out_qsize 0\n",
      "2017-10-25 19:59:02,847 : INFO : PROGRESS: at 25.16% examples, 206177 words/s, in_qsize 6, out_qsize 0\n",
      "2017-10-25 19:59:03,893 : INFO : PROGRESS: at 25.67% examples, 205950 words/s, in_qsize 5, out_qsize 0\n",
      "2017-10-25 19:59:04,926 : INFO : PROGRESS: at 26.20% examples, 206038 words/s, in_qsize 5, out_qsize 0\n",
      "2017-10-25 19:59:05,935 : INFO : PROGRESS: at 26.72% examples, 206098 words/s, in_qsize 5, out_qsize 0\n",
      "2017-10-25 19:59:06,967 : INFO : PROGRESS: at 27.24% examples, 206111 words/s, in_qsize 5, out_qsize 0\n",
      "2017-10-25 19:59:08,017 : INFO : PROGRESS: at 27.78% examples, 206170 words/s, in_qsize 5, out_qsize 0\n",
      "2017-10-25 19:59:09,054 : INFO : PROGRESS: at 28.31% examples, 206218 words/s, in_qsize 5, out_qsize 0\n",
      "2017-10-25 19:59:10,086 : INFO : PROGRESS: at 28.80% examples, 205963 words/s, in_qsize 5, out_qsize 0\n",
      "2017-10-25 19:59:11,105 : INFO : PROGRESS: at 29.32% examples, 205985 words/s, in_qsize 5, out_qsize 0\n",
      "2017-10-25 19:59:12,116 : INFO : PROGRESS: at 29.84% examples, 206022 words/s, in_qsize 5, out_qsize 0\n",
      "2017-10-25 19:59:13,162 : INFO : PROGRESS: at 30.37% examples, 206068 words/s, in_qsize 5, out_qsize 0\n",
      "2017-10-25 19:59:14,217 : INFO : PROGRESS: at 30.93% examples, 206138 words/s, in_qsize 5, out_qsize 0\n",
      "2017-10-25 19:59:15,237 : INFO : PROGRESS: at 31.46% examples, 206263 words/s, in_qsize 5, out_qsize 0\n",
      "2017-10-25 19:59:16,244 : INFO : PROGRESS: at 31.98% examples, 206342 words/s, in_qsize 5, out_qsize 0\n",
      "2017-10-25 19:59:17,257 : INFO : PROGRESS: at 32.52% examples, 206486 words/s, in_qsize 5, out_qsize 0\n",
      "2017-10-25 19:59:18,267 : INFO : PROGRESS: at 33.05% examples, 206642 words/s, in_qsize 5, out_qsize 0\n",
      "2017-10-25 19:59:19,285 : INFO : PROGRESS: at 33.56% examples, 206561 words/s, in_qsize 5, out_qsize 0\n",
      "2017-10-25 19:59:20,354 : INFO : PROGRESS: at 34.09% examples, 206498 words/s, in_qsize 6, out_qsize 0\n",
      "2017-10-25 19:59:21,355 : INFO : PROGRESS: at 34.55% examples, 206337 words/s, in_qsize 5, out_qsize 0\n",
      "2017-10-25 19:59:22,359 : INFO : PROGRESS: at 35.05% examples, 206528 words/s, in_qsize 5, out_qsize 0\n",
      "2017-10-25 19:59:23,372 : INFO : PROGRESS: at 35.57% examples, 206614 words/s, in_qsize 5, out_qsize 0\n"
     ]
    },
    {
     "name": "stderr",
     "output_type": "stream",
     "text": [
      "2017-10-25 19:59:24,378 : INFO : PROGRESS: at 36.06% examples, 206525 words/s, in_qsize 5, out_qsize 0\n",
      "2017-10-25 19:59:25,379 : INFO : PROGRESS: at 36.56% examples, 206564 words/s, in_qsize 5, out_qsize 0\n",
      "2017-10-25 19:59:26,384 : INFO : PROGRESS: at 37.05% examples, 206540 words/s, in_qsize 5, out_qsize 0\n",
      "2017-10-25 19:59:27,392 : INFO : PROGRESS: at 37.56% examples, 206652 words/s, in_qsize 5, out_qsize 0\n",
      "2017-10-25 19:59:28,423 : INFO : PROGRESS: at 38.07% examples, 206581 words/s, in_qsize 5, out_qsize 0\n",
      "2017-10-25 19:59:29,499 : INFO : PROGRESS: at 38.60% examples, 206577 words/s, in_qsize 5, out_qsize 0\n",
      "2017-10-25 19:59:30,509 : INFO : PROGRESS: at 39.12% examples, 206670 words/s, in_qsize 5, out_qsize 0\n",
      "2017-10-25 19:59:31,529 : INFO : PROGRESS: at 39.63% examples, 206643 words/s, in_qsize 5, out_qsize 0\n",
      "2017-10-25 19:59:32,583 : INFO : PROGRESS: at 40.16% examples, 206634 words/s, in_qsize 5, out_qsize 0\n",
      "2017-10-25 19:59:33,628 : INFO : PROGRESS: at 40.70% examples, 206691 words/s, in_qsize 5, out_qsize 0\n",
      "2017-10-25 19:59:34,684 : INFO : PROGRESS: at 41.23% examples, 206705 words/s, in_qsize 5, out_qsize 0\n",
      "2017-10-25 19:59:35,725 : INFO : PROGRESS: at 41.77% examples, 206766 words/s, in_qsize 5, out_qsize 0\n",
      "2017-10-25 19:59:36,766 : INFO : PROGRESS: at 42.31% examples, 206822 words/s, in_qsize 6, out_qsize 0\n",
      "2017-10-25 19:59:37,776 : INFO : PROGRESS: at 42.82% examples, 206880 words/s, in_qsize 5, out_qsize 0\n",
      "2017-10-25 19:59:38,793 : INFO : PROGRESS: at 43.33% examples, 206846 words/s, in_qsize 5, out_qsize 0\n",
      "2017-10-25 19:59:39,795 : INFO : PROGRESS: at 43.85% examples, 206924 words/s, in_qsize 5, out_qsize 0\n",
      "2017-10-25 19:59:40,809 : INFO : PROGRESS: at 44.35% examples, 206908 words/s, in_qsize 5, out_qsize 0\n",
      "2017-10-25 19:59:41,851 : INFO : PROGRESS: at 44.87% examples, 206891 words/s, in_qsize 5, out_qsize 0\n",
      "2017-10-25 19:59:42,886 : INFO : PROGRESS: at 45.41% examples, 206927 words/s, in_qsize 5, out_qsize 0\n",
      "2017-10-25 19:59:43,917 : INFO : PROGRESS: at 45.94% examples, 206973 words/s, in_qsize 5, out_qsize 0\n",
      "2017-10-25 19:59:44,941 : INFO : PROGRESS: at 46.48% examples, 207024 words/s, in_qsize 5, out_qsize 0\n",
      "2017-10-25 19:59:45,960 : INFO : PROGRESS: at 46.98% examples, 206979 words/s, in_qsize 5, out_qsize 0\n",
      "2017-10-25 19:59:47,028 : INFO : PROGRESS: at 47.52% examples, 206945 words/s, in_qsize 5, out_qsize 0\n",
      "2017-10-25 19:59:48,059 : INFO : PROGRESS: at 48.05% examples, 206985 words/s, in_qsize 5, out_qsize 0\n",
      "2017-10-25 19:59:49,101 : INFO : PROGRESS: at 48.59% examples, 207021 words/s, in_qsize 5, out_qsize 0\n",
      "2017-10-25 19:59:50,135 : INFO : PROGRESS: at 49.12% examples, 207071 words/s, in_qsize 5, out_qsize 0\n",
      "2017-10-25 19:59:51,186 : INFO : PROGRESS: at 49.66% examples, 207050 words/s, in_qsize 5, out_qsize 0\n",
      "2017-10-25 19:59:52,186 : INFO : PROGRESS: at 50.18% examples, 207101 words/s, in_qsize 5, out_qsize 0\n",
      "2017-10-25 19:59:53,191 : INFO : PROGRESS: at 50.70% examples, 207114 words/s, in_qsize 5, out_qsize 0\n",
      "2017-10-25 19:59:54,215 : INFO : PROGRESS: at 51.22% examples, 207099 words/s, in_qsize 5, out_qsize 0\n",
      "2017-10-25 19:59:55,219 : INFO : PROGRESS: at 51.74% examples, 207135 words/s, in_qsize 5, out_qsize 0\n",
      "2017-10-25 19:59:56,270 : INFO : PROGRESS: at 52.27% examples, 207147 words/s, in_qsize 5, out_qsize 0\n",
      "2017-10-25 19:59:57,300 : INFO : PROGRESS: at 52.81% examples, 207192 words/s, in_qsize 5, out_qsize 0\n",
      "2017-10-25 19:59:58,310 : INFO : PROGRESS: at 53.33% examples, 207236 words/s, in_qsize 5, out_qsize 0\n",
      "2017-10-25 19:59:59,314 : INFO : PROGRESS: at 53.85% examples, 207252 words/s, in_qsize 5, out_qsize 0\n",
      "2017-10-25 20:00:00,353 : INFO : PROGRESS: at 54.37% examples, 207249 words/s, in_qsize 5, out_qsize 0\n",
      "2017-10-25 20:00:01,387 : INFO : PROGRESS: at 54.85% examples, 207274 words/s, in_qsize 5, out_qsize 0\n",
      "2017-10-25 20:00:02,390 : INFO : PROGRESS: at 55.36% examples, 207292 words/s, in_qsize 5, out_qsize 0\n",
      "2017-10-25 20:00:03,420 : INFO : PROGRESS: at 55.88% examples, 207316 words/s, in_qsize 5, out_qsize 0\n",
      "2017-10-25 20:00:04,430 : INFO : PROGRESS: at 56.40% examples, 207361 words/s, in_qsize 5, out_qsize 0\n",
      "2017-10-25 20:00:05,483 : INFO : PROGRESS: at 56.90% examples, 207303 words/s, in_qsize 5, out_qsize 0\n",
      "2017-10-25 20:00:06,495 : INFO : PROGRESS: at 57.42% examples, 207379 words/s, in_qsize 5, out_qsize 0\n",
      "2017-10-25 20:00:07,495 : INFO : PROGRESS: at 57.92% examples, 207381 words/s, in_qsize 5, out_qsize 0\n",
      "2017-10-25 20:00:08,509 : INFO : PROGRESS: at 58.43% examples, 207359 words/s, in_qsize 5, out_qsize 0\n",
      "2017-10-25 20:00:09,519 : INFO : PROGRESS: at 58.94% examples, 207420 words/s, in_qsize 5, out_qsize 0\n",
      "2017-10-25 20:00:10,531 : INFO : PROGRESS: at 59.45% examples, 207402 words/s, in_qsize 5, out_qsize 0\n",
      "2017-10-25 20:00:11,533 : INFO : PROGRESS: at 59.95% examples, 207402 words/s, in_qsize 5, out_qsize 0\n",
      "2017-10-25 20:00:12,565 : INFO : PROGRESS: at 60.49% examples, 207437 words/s, in_qsize 5, out_qsize 0\n",
      "2017-10-25 20:00:13,621 : INFO : PROGRESS: at 61.02% examples, 207444 words/s, in_qsize 5, out_qsize 0\n",
      "2017-10-25 20:00:14,675 : INFO : PROGRESS: at 61.56% examples, 207444 words/s, in_qsize 5, out_qsize 0\n",
      "2017-10-25 20:00:15,715 : INFO : PROGRESS: at 62.09% examples, 207480 words/s, in_qsize 5, out_qsize 0\n",
      "2017-10-25 20:00:16,719 : INFO : PROGRESS: at 62.61% examples, 207526 words/s, in_qsize 5, out_qsize 0\n",
      "2017-10-25 20:00:17,763 : INFO : PROGRESS: at 63.13% examples, 207504 words/s, in_qsize 5, out_qsize 0\n",
      "2017-10-25 20:00:18,798 : INFO : PROGRESS: at 63.67% examples, 207554 words/s, in_qsize 5, out_qsize 0\n",
      "2017-10-25 20:00:19,806 : INFO : PROGRESS: at 64.17% examples, 207542 words/s, in_qsize 5, out_qsize 0\n",
      "2017-10-25 20:00:20,852 : INFO : PROGRESS: at 64.69% examples, 207516 words/s, in_qsize 5, out_qsize 0\n",
      "2017-10-25 20:00:21,885 : INFO : PROGRESS: at 65.23% examples, 207554 words/s, in_qsize 5, out_qsize 0\n",
      "2017-10-25 20:00:22,903 : INFO : PROGRESS: at 65.75% examples, 207547 words/s, in_qsize 5, out_qsize 0\n",
      "2017-10-25 20:00:23,940 : INFO : PROGRESS: at 66.28% examples, 207560 words/s, in_qsize 5, out_qsize 0\n",
      "2017-10-25 20:00:25,002 : INFO : PROGRESS: at 66.82% examples, 207545 words/s, in_qsize 5, out_qsize 0\n",
      "2017-10-25 20:00:26,040 : INFO : PROGRESS: at 67.35% examples, 207570 words/s, in_qsize 5, out_qsize 0\n",
      "2017-10-25 20:00:27,078 : INFO : PROGRESS: at 67.89% examples, 207592 words/s, in_qsize 5, out_qsize 0\n",
      "2017-10-25 20:00:28,129 : INFO : PROGRESS: at 68.43% examples, 207585 words/s, in_qsize 5, out_qsize 0\n",
      "2017-10-25 20:00:29,159 : INFO : PROGRESS: at 68.96% examples, 207624 words/s, in_qsize 5, out_qsize 0\n",
      "2017-10-25 20:00:30,184 : INFO : PROGRESS: at 69.50% examples, 207650 words/s, in_qsize 5, out_qsize 0\n",
      "2017-10-25 20:00:31,195 : INFO : PROGRESS: at 69.97% examples, 207517 words/s, in_qsize 6, out_qsize 0\n",
      "2017-10-25 20:00:32,207 : INFO : PROGRESS: at 70.47% examples, 207473 words/s, in_qsize 5, out_qsize 0\n",
      "2017-10-25 20:00:33,255 : INFO : PROGRESS: at 71.02% examples, 207508 words/s, in_qsize 5, out_qsize 0\n",
      "2017-10-25 20:00:34,272 : INFO : PROGRESS: at 71.56% examples, 207558 words/s, in_qsize 5, out_qsize 0\n",
      "2017-10-25 20:00:35,310 : INFO : PROGRESS: at 72.08% examples, 207539 words/s, in_qsize 5, out_qsize 0\n",
      "2017-10-25 20:00:36,365 : INFO : PROGRESS: at 72.61% examples, 207534 words/s, in_qsize 5, out_qsize 0\n",
      "2017-10-25 20:00:37,369 : INFO : PROGRESS: at 73.15% examples, 207620 words/s, in_qsize 6, out_qsize 0\n",
      "2017-10-25 20:00:38,382 : INFO : PROGRESS: at 73.67% examples, 207619 words/s, in_qsize 5, out_qsize 0\n",
      "2017-10-25 20:00:39,427 : INFO : PROGRESS: at 74.20% examples, 207612 words/s, in_qsize 5, out_qsize 0\n",
      "2017-10-25 20:00:40,478 : INFO : PROGRESS: at 74.71% examples, 207656 words/s, in_qsize 5, out_qsize 0\n",
      "2017-10-25 20:00:41,493 : INFO : PROGRESS: at 75.23% examples, 207722 words/s, in_qsize 5, out_qsize 0\n",
      "2017-10-25 20:00:42,512 : INFO : PROGRESS: at 75.75% examples, 207740 words/s, in_qsize 5, out_qsize 0\n",
      "2017-10-25 20:00:43,542 : INFO : PROGRESS: at 76.27% examples, 207750 words/s, in_qsize 5, out_qsize 0\n",
      "2017-10-25 20:00:44,559 : INFO : PROGRESS: at 76.79% examples, 207796 words/s, in_qsize 5, out_qsize 0\n",
      "2017-10-25 20:00:45,565 : INFO : PROGRESS: at 77.31% examples, 207866 words/s, in_qsize 5, out_qsize 0\n"
     ]
    },
    {
     "name": "stderr",
     "output_type": "stream",
     "text": [
      "2017-10-25 20:00:46,581 : INFO : PROGRESS: at 77.82% examples, 207879 words/s, in_qsize 5, out_qsize 0\n",
      "2017-10-25 20:00:47,640 : INFO : PROGRESS: at 78.36% examples, 207885 words/s, in_qsize 5, out_qsize 0\n",
      "2017-10-25 20:00:48,645 : INFO : PROGRESS: at 78.86% examples, 207893 words/s, in_qsize 5, out_qsize 0\n",
      "2017-10-25 20:00:49,689 : INFO : PROGRESS: at 79.40% examples, 207929 words/s, in_qsize 5, out_qsize 0\n",
      "2017-10-25 20:00:50,689 : INFO : PROGRESS: at 79.90% examples, 207923 words/s, in_qsize 5, out_qsize 0\n",
      "2017-10-25 20:00:51,699 : INFO : PROGRESS: at 80.44% examples, 207976 words/s, in_qsize 5, out_qsize 0\n",
      "2017-10-25 20:00:52,719 : INFO : PROGRESS: at 80.97% examples, 208027 words/s, in_qsize 5, out_qsize 0\n",
      "2017-10-25 20:00:53,773 : INFO : PROGRESS: at 81.51% examples, 208025 words/s, in_qsize 5, out_qsize 0\n",
      "2017-10-25 20:00:54,785 : INFO : PROGRESS: at 82.03% examples, 208049 words/s, in_qsize 5, out_qsize 0\n",
      "2017-10-25 20:00:55,845 : INFO : PROGRESS: at 82.56% examples, 208044 words/s, in_qsize 5, out_qsize 0\n",
      "2017-10-25 20:00:56,856 : INFO : PROGRESS: at 83.08% examples, 208071 words/s, in_qsize 5, out_qsize 0\n",
      "2017-10-25 20:00:57,858 : INFO : PROGRESS: at 83.62% examples, 208144 words/s, in_qsize 5, out_qsize 0\n",
      "2017-10-25 20:00:58,887 : INFO : PROGRESS: at 84.12% examples, 208102 words/s, in_qsize 5, out_qsize 0\n",
      "2017-10-25 20:00:59,941 : INFO : PROGRESS: at 84.64% examples, 208072 words/s, in_qsize 5, out_qsize 0\n",
      "2017-10-25 20:01:00,944 : INFO : PROGRESS: at 85.18% examples, 208135 words/s, in_qsize 5, out_qsize 0\n",
      "2017-10-25 20:01:01,997 : INFO : PROGRESS: at 85.71% examples, 208122 words/s, in_qsize 5, out_qsize 0\n",
      "2017-10-25 20:01:03,025 : INFO : PROGRESS: at 86.25% examples, 208141 words/s, in_qsize 5, out_qsize 0\n",
      "2017-10-25 20:01:04,030 : INFO : PROGRESS: at 86.79% examples, 208197 words/s, in_qsize 5, out_qsize 0\n",
      "2017-10-25 20:01:05,086 : INFO : PROGRESS: at 87.32% examples, 208193 words/s, in_qsize 5, out_qsize 0\n",
      "2017-10-25 20:01:06,136 : INFO : PROGRESS: at 87.87% examples, 208232 words/s, in_qsize 5, out_qsize 0\n",
      "2017-10-25 20:01:07,164 : INFO : PROGRESS: at 88.41% examples, 208249 words/s, in_qsize 5, out_qsize 0\n",
      "2017-10-25 20:01:08,169 : INFO : PROGRESS: at 88.93% examples, 208268 words/s, in_qsize 5, out_qsize 0\n",
      "2017-10-25 20:01:09,198 : INFO : PROGRESS: at 89.46% examples, 208277 words/s, in_qsize 5, out_qsize 0\n",
      "2017-10-25 20:01:10,253 : INFO : PROGRESS: at 90.02% examples, 208306 words/s, in_qsize 5, out_qsize 0\n",
      "2017-10-25 20:01:11,288 : INFO : PROGRESS: at 90.57% examples, 208350 words/s, in_qsize 5, out_qsize 0\n",
      "2017-10-25 20:01:12,314 : INFO : PROGRESS: at 91.10% examples, 208364 words/s, in_qsize 5, out_qsize 0\n",
      "2017-10-25 20:01:13,317 : INFO : PROGRESS: at 91.64% examples, 208416 words/s, in_qsize 5, out_qsize 0\n",
      "2017-10-25 20:01:14,370 : INFO : PROGRESS: at 92.18% examples, 208410 words/s, in_qsize 5, out_qsize 0\n",
      "2017-10-25 20:01:15,404 : INFO : PROGRESS: at 92.71% examples, 208429 words/s, in_qsize 5, out_qsize 0\n",
      "2017-10-25 20:01:16,410 : INFO : PROGRESS: at 93.25% examples, 208488 words/s, in_qsize 5, out_qsize 0\n",
      "2017-10-25 20:01:17,423 : INFO : PROGRESS: at 93.78% examples, 208516 words/s, in_qsize 5, out_qsize 0\n",
      "2017-10-25 20:01:18,453 : INFO : PROGRESS: at 94.30% examples, 208503 words/s, in_qsize 5, out_qsize 0\n",
      "2017-10-25 20:01:19,487 : INFO : PROGRESS: at 94.79% examples, 208508 words/s, in_qsize 5, out_qsize 0\n",
      "2017-10-25 20:01:20,527 : INFO : PROGRESS: at 95.32% examples, 208558 words/s, in_qsize 5, out_qsize 0\n",
      "2017-10-25 20:01:21,533 : INFO : PROGRESS: at 95.83% examples, 208552 words/s, in_qsize 5, out_qsize 0\n",
      "2017-10-25 20:01:22,608 : INFO : PROGRESS: at 96.35% examples, 208503 words/s, in_qsize 5, out_qsize 0\n",
      "2017-10-25 20:01:23,614 : INFO : PROGRESS: at 96.87% examples, 208549 words/s, in_qsize 5, out_qsize 0\n",
      "2017-10-25 20:01:24,644 : INFO : PROGRESS: at 97.39% examples, 208570 words/s, in_qsize 5, out_qsize 0\n",
      "2017-10-25 20:01:25,662 : INFO : PROGRESS: at 97.91% examples, 208578 words/s, in_qsize 5, out_qsize 0\n",
      "2017-10-25 20:01:26,718 : INFO : PROGRESS: at 98.44% examples, 208584 words/s, in_qsize 5, out_qsize 0\n",
      "2017-10-25 20:01:27,748 : INFO : PROGRESS: at 98.98% examples, 208626 words/s, in_qsize 5, out_qsize 0\n",
      "2017-10-25 20:01:28,754 : INFO : PROGRESS: at 99.48% examples, 208618 words/s, in_qsize 5, out_qsize 0\n",
      "2017-10-25 20:01:29,682 : INFO : worker thread finished; awaiting finish of 2 more threads\n",
      "2017-10-25 20:01:29,683 : INFO : worker thread finished; awaiting finish of 1 more threads\n",
      "2017-10-25 20:01:29,723 : INFO : worker thread finished; awaiting finish of 0 more threads\n",
      "2017-10-25 20:01:29,725 : INFO : training on 61572475 raw words (41120540 effective words) took 197.1s, 208659 effective words/s\n",
      "2017-10-25 20:01:29,726 : INFO : saving Word2Vec object under word2vec_model, separately None\n",
      "2017-10-25 20:01:29,728 : INFO : storing np array 'syn0' to word2vec_model.wv.syn0.npy\n",
      "2017-10-25 20:01:29,828 : INFO : not storing attribute syn0norm\n",
      "2017-10-25 20:01:29,829 : INFO : storing np array 'syn1neg' to word2vec_model.syn1neg.npy\n",
      "2017-10-25 20:01:29,907 : INFO : not storing attribute cum_table\n",
      "2017-10-25 20:01:30,128 : INFO : saved word2vec_model\n"
     ]
    }
   ],
   "source": [
    "if __name__ == '__main__':\n",
    "#     lyrics = lyrics_without_timing()\n",
    "#     cut_and_save(lyrics)\n",
    "    train_word2vec()"
   ]
  }
 ],
 "metadata": {
  "kernelspec": {
   "display_name": "Python [conda env:dl]",
   "language": "python",
   "name": "conda-env-dl-py"
  },
  "language_info": {
   "codemirror_mode": {
    "name": "ipython",
    "version": 3
   },
   "file_extension": ".py",
   "mimetype": "text/x-python",
   "name": "python",
   "nbconvert_exporter": "python",
   "pygments_lexer": "ipython3",
   "version": "3.6.2"
  }
 },
 "nbformat": 4,
 "nbformat_minor": 2
}
