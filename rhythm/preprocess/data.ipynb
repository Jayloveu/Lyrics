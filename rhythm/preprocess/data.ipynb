{
 "cells": [
  {
   "cell_type": "code",
   "execution_count": 8,
   "metadata": {
    "collapsed": true
   },
   "outputs": [],
   "source": [
    "import re\n",
    "import pickle\n",
    "import numpy as np\n",
    "import preprocess\n",
    "import random\n",
    "import thulac\n",
    "import pypinyin\n",
    "from gensim.models import word2vec\n",
    "import logging"
   ]
  },
  {
   "cell_type": "code",
   "execution_count": 2,
   "metadata": {
    "collapsed": true
   },
   "outputs": [],
   "source": [
    "def load_raw_data():\n",
    "    \"\"\"Return titles and lyrics.\"\"\"\n",
    "    \n",
    "    titles_lyrics = preprocess.load_from_pickle()\n",
    "    if titles_lyrics == None:\n",
    "        preprocess.preprocess()\n",
    "        titles_lyrics = preprocess.load_from_pickle()\n",
    "    return titles_lyrics"
   ]
  },
  {
   "cell_type": "code",
   "execution_count": 3,
   "metadata": {
    "collapsed": true
   },
   "outputs": [],
   "source": [
    "def lyrics_without_timing():\n",
    "    \"\"\"Return a list of lyrics, pure text, no timing\"\"\"\n",
    "    _, lyrics = load_raw_data()\n",
    "#     del_timing = lambda s: re.sub('\\[.*\\]', '', s).strip()\n",
    "#     lyrics = [[del_timing(sentence) for sentence in lyric if del_timing(sentence) != '']\\\n",
    "#              for lyric in lyrics]\n",
    "    \n",
    "    del_not_chinese = lambda s: re.sub(u'[^\\u4E00-\\u9FA5 ]', '', s).strip()\n",
    "    lyrics = [[del_not_chinese(sentence) for sentence in lyric\\\n",
    "               if del_not_chinese(sentence) != ''] for lyric in lyrics]\n",
    "    \n",
    "    lyrics = [[sentence for sentence in lyric\n",
    "               if len(sentence) > 6\n",
    "               and '词曲' not in sentence and '作曲' not in sentence and\n",
    "               '编曲' not in sentence and '作词' not in sentence\n",
    "              ]for lyric in lyrics]\n",
    "\n",
    "    lyrics = [lyric[3:-1] for lyric in lyrics if len(lyric) > 15]\n",
    "    return lyrics"
   ]
  },
  {
   "cell_type": "code",
   "execution_count": 4,
   "metadata": {
    "collapsed": true
   },
   "outputs": [],
   "source": [
    "def cut_and_save(lyrics):\n",
    "    cut = thulac.thulac(seg_only=True)  #只进行分词，不进行词性标注\n",
    "    with open('all_lyrics.txt', 'wb') as f:\n",
    "        print(len(lyrics))\n",
    "        for i, lyric in enumerate(lyrics):\n",
    "            if (i % 1000 == 0):\n",
    "                print(i)\n",
    "            for sentence in lyric:\n",
    "                f.write((' '.join(list(zip(*cut.cut(sentence)))[0])).encode('utf8'))"
   ]
  },
  {
   "cell_type": "code",
   "execution_count": 5,
   "metadata": {
    "collapsed": true
   },
   "outputs": [],
   "source": [
    "def train_word2vec():\n",
    "    logging.basicConfig(format='%(asctime)s : %(levelname)s : %(message)s', level=logging.INFO)\n",
    "    sentences = word2vec.Text8Corpus(\"all_lyrics.txt\")  # 加载语料\n",
    "    model = word2vec.Word2Vec(sentences)  # 训练skip-gram模型; 默认window=5\n",
    "    model.save('word2vec_model')"
   ]
  },
  {
   "cell_type": "code",
   "execution_count": 116,
   "metadata": {},
   "outputs": [],
   "source": [
    "def count_rhythm(lyrics):\n",
    "    rhythm_dict = {}\n",
    "    for lyric in lyrics:\n",
    "        rhythm = [pypinyin.pinyin(sentence, style=pypinyin.Style.FINALS)[-1][0]\\\n",
    "                  for sentence in lyric]\n",
    "\n",
    "        for i in range(2, len(lyric)):\n",
    "            rhythm_dict[(rhythm[i], rhythm[i - 1])] = \\\n",
    "            rhythm_dict.setdefault((rhythm[i], rhythm[i - 1]), 0) + 1\n",
    "            \n",
    "            rhythm_dict[(rhythm[i], rhythm[i - 2])] = \\\n",
    "            rhythm_dict.setdefault((rhythm[i], rhythm[i - 2]), 0) + 1\n",
    "\n",
    "    return rhythm_dict"
   ]
  },
  {
   "cell_type": "code",
   "execution_count": 117,
   "metadata": {},
   "outputs": [],
   "source": [
    "rhythm_joint_distribution = count_rhythm(lyrics)"
   ]
  },
  {
   "cell_type": "code",
   "execution_count": 120,
   "metadata": {},
   "outputs": [
    {
     "data": {
      "image/png": "[encoded data removed]",
      "text/plain": [
       "<matplotlib.figure.Figure at 0x111772940>"
      ]
     },
     "metadata": {},
     "output_type": "display_data"
    }
   ],
   "source": [
    "import matplotlib.pyplot as plt\n",
    "% matplotlib inline\n",
    "\n",
    "plt.rcParams['figure.figsize'] = (10,10)\n",
    "\n",
    "pinyin_x = np.unique([key[0][::-1] for key in rhythm_joint_distribution.keys()])\n",
    "pinyin_x = pinyin_x[pinyin_x != '']\n",
    "pinyin_y = np.unique([key[1][::-1] for key in rhythm_joint_distribution.keys()])\n",
    "pinyin_y = pinyin_y[pinyin_y != '']\n",
    "\n",
    "mat = np.zeros([len(pinyin_x), len(pinyin_y)], dtype='float')\n",
    "for i in range(len(pinyin_x)):\n",
    "    for j in range(len(pinyin_y)):\n",
    "        mat[i][j] = rhythm_joint_distribution.get((pinyin_x[i][::-1], pinyin_y[j][::-1]), 0)\n",
    "\n",
    "mat = mat / np.sum(mat, axis=1)\n",
    "\n",
    "fig, ax = plt.subplots()\n",
    "heatmap = ax.pcolor(mat, cmap=plt.cm.Blues)\n",
    "\n",
    "# put the major ticks at the middle of each cell\n",
    "ax.set_xticks(np.arange(mat.shape[1]) + 0.5, minor=False)\n",
    "ax.set_yticks(np.arange(mat.shape[0]) + 0.5, minor=False)\n",
    "\n",
    "# want a more natural, table-like display\n",
    "ax.invert_yaxis()\n",
    "ax.xaxis.tick_top()\n",
    "\n",
    "ax.set_xticklabels([pinyin[::-1] for pinyin in pinyin_y], minor=False)\n",
    "ax.set_yticklabels([pinyin[::-1] for pinyin in pinyin_x], minor=False)\n",
    "plt.show()"
   ]
  },
  {
   "cell_type": "code",
   "execution_count": 119,
   "metadata": {
    "collapsed": true
   },
   "outputs": [],
   "source": [
    "finals_joint_distribution = rhythm_joint_distributionthm_joint_distributionythm_joint_distribution"
   ]
  },
  {
   "cell_type": "code",
   "execution_count": 115,
   "metadata": {
    "collapsed": true
   },
   "outputs": [],
   "source": [
    "# with_initials = rhythm_joint_distribution"
   ]
  },
  {
   "cell_type": "code",
   "execution_count": 6,
   "metadata": {
    "collapsed": true
   },
   "outputs": [],
   "source": [
    "if __name__ == '__main__':\n",
    "    lyrics = lyrics_without_timing()\n",
    "#     cut_and_save(lyrics)\n",
    "#     train_word2vec()"
   ]
  }
 ],
 "metadata": {
  "kernelspec": {
   "display_name": "Python [conda env:dl]",
   "language": "python",
   "name": "conda-env-dl-py"
  },
  "language_info": {
   "codemirror_mode": {
    "name": "ipython",
    "version": 3
   },
   "file_extension": ".py",
   "mimetype": "text/x-python",
   "name": "python",
   "nbconvert_exporter": "python",
   "pygments_lexer": "ipython3",
   "version": "3.6.3"
  }
 },
 "nbformat": 4,
 "nbformat_minor": 2
}
