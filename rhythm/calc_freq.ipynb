{
 "cells": [
  {
   "cell_type": "code",
   "execution_count": 2,
   "metadata": {
    "collapsed": true
   },
   "outputs": [],
   "source": [
    "import json"
   ]
  },
  {
   "cell_type": "code",
   "execution_count": 16,
   "metadata": {
    "collapsed": true
   },
   "outputs": [],
   "source": [
    "def calc(content):\n",
    "    lastChar = ''\n",
    "    for char in content:\n",
    "        # character frequency\n",
    "        if char in singleCharacterFrequency:\n",
    "            singleCharacterFrequency[char] += 1\n",
    "        else:\n",
    "            singleCharacterFrequency[char] = 1\n",
    "\n",
    "        if lastChar == '':\n",
    "            lastChar = char\n",
    "            continue\n",
    "\n",
    "        # word(2 charaters) frequency\n",
    "        if lastChar + char in tupleCharacterFrequency:\n",
    "            tupleCharacterFrequency[lastChar + char] += 1\n",
    "        else:\n",
    "            tupleCharacterFrequency[lastChar + char] = 1\n",
    "\n",
    "        lastChar = char"
   ]
  },
  {
   "cell_type": "code",
   "execution_count": 17,
   "metadata": {},
   "outputs": [],
   "source": [
    "singleCharacterFrequency = {}\n",
    "tupleCharacterFrequency = {}\n",
    "\n",
    "with open('all_lyrics.txt', 'r') as file:\n",
    "    content = file.read().replace(' ', '')\n",
    "\n",
    "calc(content)\n",
    "\n",
    "json.dump(singleCharacterFrequency, open('singleCharacterFrequency.json', 'w'))\n",
    "\n",
    "json.dump(tupleCharacterFrequency, open('tupleCharacterFrequency.json', 'w'))"
   ]
  }
 ],
 "metadata": {
  "kernelspec": {
   "display_name": "Python [conda env:dl]",
   "language": "python",
   "name": "conda-env-dl-py"
  },
  "language_info": {
   "codemirror_mode": {
    "name": "ipython",
    "version": 3
   },
   "file_extension": ".py",
   "mimetype": "text/x-python",
   "name": "python",
   "nbconvert_exporter": "python",
   "pygments_lexer": "ipython3",
   "version": "3.6.3"
  }
 },
 "nbformat": 4,
 "nbformat_minor": 2
}
