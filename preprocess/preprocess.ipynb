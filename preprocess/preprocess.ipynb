{
 "cells": [
  {
   "cell_type": "code",
   "execution_count": 3,
   "metadata": {
    "collapsed": true
   },
   "outputs": [],
   "source": [
    "import json, pickle\n",
    "from hanziconv import HanziConv"
   ]
  },
  {
   "cell_type": "code",
   "execution_count": 10,
   "metadata": {
    "collapsed": true
   },
   "outputs": [],
   "source": [
    "def read_from_crawler(filename='crawled.json', show=False):\n",
    "    \"\"\"Read songs from crawled.\n",
    "\n",
    "    return titiles, lyrics.\n",
    "    \"\"\"\n",
    "    try:\n",
    "        with open(filename, 'r', encoding='utf-8') as f:\n",
    "            songs = json.load(f)\n",
    "            print('Read {0} lyrics from crawled.'.format(len(songs)))\n",
    "            print('Example:')\n",
    "            print(songs[0]['title'])\n",
    "            print(songs[0]['lyric'])\n",
    "            titles = [song['title'] for song in songs]\n",
    "            lyrics = [song['lyric'] for song in songs]\n",
    "            return titles, lyrics\n",
    "    except Exception:\n",
    "        print('crawled file not exist.')"
   ]
  },
  {
   "cell_type": "code",
   "execution_count": 5,
   "metadata": {
    "collapsed": true
   },
   "outputs": [],
   "source": [
    "def dump_to_pickle(titles, lyrics):\n",
    "    \"\"\"Write titles and lyrics to pkl.\n",
    "    \"\"\"\n",
    "\n",
    "    pickle.dump(titles, open('titles.pkl', 'wb'))\n",
    "    pickle.dump(lyrics, open('lyrics.pkl', 'wb'))"
   ]
  },
  {
   "cell_type": "code",
   "execution_count": 6,
   "metadata": {
    "collapsed": true
   },
   "outputs": [],
   "source": [
    "def filter_lyrics(titles, lyrics):\n",
    "    \"\"\"Filter out bad lyrics.\n",
    "    \"\"\"\n",
    "    ori_len = len(titles)\n",
    "    # filter out junk\n",
    "    for i in range(len(lyrics)):\n",
    "        lyrics[i] = lyrics[i].replace('\\ufeff', '').replace('\\r', '').replace('\\n','')\n",
    "        lyrics[i] = lyrics[i].split('[')[:-1]\n",
    "\n",
    "    # filter out invalid lyrics\n",
    "    titles = [title for title, lyric in zip(titles, lyrics) if lyric != [] and lyric[0] == '']\n",
    "    lyrics = [lyric[1:] for lyric in lyrics if lyric != [] and lyric[0] == '']\n",
    "    lyrics = [['[' + sentence for sentence in lyric if not 'lrcgc' in sentence]\\\n",
    "              for lyric in lyrics]\n",
    "    \n",
    "    # to Simplified Chinese\n",
    "    \n",
    "    lyrics = [[HanziConv.toSimplified(sentence)\\\n",
    "               for sentence in lyric] for lyric in lyrics]\n",
    "\n",
    "    print('{0}% lyrics filtered.'.format(100 * (ori_len - len(titles)) / ori_len))\n",
    "    return titles, lyrics"
   ]
  },
  {
   "cell_type": "code",
   "execution_count": 7,
   "metadata": {
    "collapsed": true
   },
   "outputs": [],
   "source": [
    "def load_from_pickle():\n",
    "    \"\"\"Load tiltes and lyrics from pickle.\n",
    "    \"\"\"\n",
    "    try:\n",
    "        titles = pickle.load(open('titles.pkl', 'rb'))\n",
    "    except Exception:\n",
    "        print('titles.pkl not found.')\n",
    "        return\n",
    "    try:\n",
    "        lyrics = pickle.load(open('lyrics.pkl', 'rb'))\n",
    "    except Exception:\n",
    "        print('titles.pkl not found.')\n",
    "        return\n",
    "    return titles, lyrics"
   ]
  },
  {
   "cell_type": "code",
   "execution_count": 8,
   "metadata": {
    "collapsed": true
   },
   "outputs": [],
   "source": [
    "def preprocess():\n",
    "    \"\"\"Preprocess crawled data to pickle\"\"\"\n",
    "    titles, lyrics = read_from_crawler(show=True)\n",
    "    titles, lyrics = filter_lyrics(titles, lyrics)\n",
    "    dump_to_pickle(titles, lyrics)"
   ]
  },
  {
   "cell_type": "code",
   "execution_count": 11,
   "metadata": {},
   "outputs": [
    {
     "name": "stdout",
     "output_type": "stream",
     "text": [
      "Read 134317 lyrics from crawled.\n",
      "Example:\n",
      "周杰伦-最后的战役(Live).lrc\n",
      "﻿[al:The One 演唱会]\n",
      "[00:46.89]机枪扫射声中我们寻找遮蔽的战壕\n",
      "[00:50.33]儿时沙雕的城堡毁坏了重新盖就好\n",
      "[00:54.34]可是你那件染血布满弹孔的军外套\n",
      "[00:58.00]却就连祷告手都举不好\n",
      "[01:02.38]硝烟中想起冰棒汽水的味道\n",
      "[01:06.44]和那些无所事事一整个夏天的年少\n",
      "[01:10.32]我放下枪回忆去年一起毕业的学校\n",
      "[01:14.19]而眼泪一直都忘记要掉\n",
      "[01:19.83]嘲笑的声音在风中不断被练习\n",
      "[01:26.68]这树林间充满了敌意\n",
      "[01:34.37]部队弃守阵地你坚持要我也离去\n",
      "[01:38.40]我也离去\n",
      "[01:41.72]我怎么能放弃\n",
      "[01:46.89]我留着陪你\n",
      "[01:49.65]强忍着泪滴\n",
      "[01:51.35]有些事真的来不及回不去\n",
      "[01:55.46]你脸在抽搐\n",
      "[01:57.32]就快没力气\n",
      "[01:59.39]家乡事不准我再提\n",
      "[02:03.76]我留着陪你\n",
      "[02:05.44]最后的距离\n",
      "[02:07.09]是你的侧脸倒在我的怀里\n",
      "[02:11.32]你慢慢睡去\n",
      "[02:13.60]我摇不醒你\n",
      "[02:15.76]泪水在战壕里决了堤\n",
      "[02:35.68]硝烟中想起冰棒汽水的味道\n",
      "[02:38.78]和那些无所事事一整个夏天的年少\n",
      "[02:42.55]我放下枪回忆去年一起毕业的学校\n",
      "[02:46.40]可眼泪一直都忘记要掉\n",
      "[02:52.52]嘲笑的声音在风中不断被练习\n",
      "[02:59.16]这树林间充满了敌意\n",
      "[03:06.85]部队弃守阵地你坚持要\n",
      "[03:10.62]我也离去\n",
      "[03:14.30]我怎么能放弃\n",
      "[03:20.08]我留着陪你\n",
      "[03:21.81]强忍着泪滴\n",
      "[03:23.53]有些事真的来不及回不去\n",
      "[03:27.72]你脸在抽搐\n",
      "[03:29.60]就快没力气\n",
      "[03:31.67]家乡事不准我再提\n",
      "[03:36.12]我留着陪你\n",
      "[03:37.69]最后的距离\n",
      "[03:39.63]是你的侧脸倒在我的怀里\n",
      "[03:43.74]你慢慢睡去\n",
      "[03:45.83]我摇不醒你\n",
      "[03:48.04]泪水在战壕里决了堤\n",
      "\n",
      "找歌词，上歌词千寻 www.lrcgc.com。支持歌词找歌名，LRC歌词免费下载。\n",
      "4.377703492484198% lyrics filtered.\n"
     ]
    }
   ],
   "source": [
    "if __name__ == '__main__':\n",
    "    preprocess()"
   ]
  },
  {
   "cell_type": "code",
   "execution_count": null,
   "metadata": {
    "collapsed": true
   },
   "outputs": [],
   "source": []
  }
 ],
 "metadata": {
  "kernelspec": {
   "display_name": "Python 3",
   "language": "python",
   "name": "python3"
  },
  "language_info": {
   "codemirror_mode": {
    "name": "ipython",
    "version": 3
   },
   "file_extension": ".py",
   "mimetype": "text/x-python",
   "name": "python",
   "nbconvert_exporter": "python",
   "pygments_lexer": "ipython3",
   "version": "3.6.2"
  }
 },
 "nbformat": 4,
 "nbformat_minor": 2
}
