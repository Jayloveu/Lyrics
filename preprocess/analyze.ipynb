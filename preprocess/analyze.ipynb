{
 "cells": [
  {
   "cell_type": "code",
   "execution_count": 4,
   "metadata": {
    "collapsed": true
   },
   "outputs": [],
   "source": [
    "import data"
   ]
  },
  {
   "cell_type": "code",
   "execution_count": 9,
   "metadata": {
    "collapsed": true
   },
   "outputs": [],
   "source": [
    "def character_frequency(lyrics, vocab_size=3000):\n",
    "    \"\"\"Analyze Characters frequence.\n",
    "    \n",
    "    In a list of list of sentences.\n",
    "    Example: [[\"song1\", \"hello world\", \"end\"], [\"song2\", \"happy end\"]]\n",
    "    \"\"\"\n",
    "    import matplotlib.pyplot as plt\n",
    "    import numpy as np\n",
    "    import itertools\n",
    "    from collections import Counter\n",
    "\n",
    "    %matplotlib inline\n",
    "    iter_characters = itertools.chain(*itertools.chain(*lyrics))\n",
    "    frequency_list = Counter(iter_characters).most_common()\n",
    "    word, freq = zip(*frequency_list)\n",
    "    \n",
    "    plt.ylabel('frequency(log)')\n",
    "    plt.xlabel('rank')\n",
    "    plt.plot(range(len(frequency_list)), np.log(freq))\n",
    "    plt.show()\n",
    "    print('100 Most frequent word: {0}'.format(word[:100]))\n",
    "    return word[:vocab_size], freq[:vocab_size]"
   ]
  },
  {
   "cell_type": "code",
   "execution_count": 10,
   "metadata": {},
   "outputs": [
    {
     "data": {
      "image/png": "[encoded data removed]",
      "text/plain": [
       "<matplotlib.figure.Figure at 0x104335160>"
      ]
     },
     "metadata": {},
     "output_type": "display_data"
    },
    {
     "name": "stdout",
     "output_type": "stream",
     "text": [
      "100 Most frequent word: ('的', '我', ' ', '你', '不', '一', '是', '爱', '在', '有', '心', '了', '人', '天', '要', '想', '来', '着', '情', '会', '就', '这', '过', '到', '个', '那', '为', '么', '说', '里', '无', '多', '好', '也', '都', '去', '再', '没', '让', '能', '只', '时', '生', '上', '起', '开', '中', '们', '自', '得', '还', '歌', '谁', '看', '风', '可', '如', '下', '回', '梦', '走', '对', '手', '相', '出', '地', '最', '真', '远', '见', '后', '眼', '唱', '知', '大', '花', '世', '已', '美', '别', '太', '夜', '明', '伤', '感', '样', '笑', '和', '分', '道', '小', '何', '光', '间', '给', '以', '像', '日', '什', '快')\n"
     ]
    }
   ],
   "source": [
    "if __name__ == '__main__':\n",
    "    lyrics = data.lyrics_without_timing()\n",
    "    character_frequency(lyrics)"
   ]
  }
 ],
 "metadata": {
  "kernelspec": {
   "display_name": "Python 3",
   "language": "python",
   "name": "python3"
  },
  "language_info": {
   "codemirror_mode": {
    "name": "ipython",
    "version": 3
   },
   "file_extension": ".py",
   "mimetype": "text/x-python",
   "name": "python",
   "nbconvert_exporter": "python",
   "pygments_lexer": "ipython3",
   "version": "3.6.2"
  }
 },
 "nbformat": 4,
 "nbformat_minor": 2
}
