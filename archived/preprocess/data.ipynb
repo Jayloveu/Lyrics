{
 "cells": [
  {
   "cell_type": "code",
   "execution_count": 1,
   "metadata": {
    "collapsed": true
   },
   "outputs": [],
   "source": [
    "import re\n",
    "import pickle\n",
    "import numpy as np\n",
    "import preprocess"
   ]
  },
  {
   "cell_type": "code",
   "execution_count": 2,
   "metadata": {
    "collapsed": true
   },
   "outputs": [],
   "source": [
    "limit = {\n",
    "    'minq': 0,\n",
    "    'maxq': 20,\n",
    "    'mina': 2,\n",
    "    'maxa': 20\n",
    "}\n",
    "\n",
    "UNK = 'unk'"
   ]
  },
  {
   "cell_type": "code",
   "execution_count": 3,
   "metadata": {
    "collapsed": true
   },
   "outputs": [],
   "source": [
    "def load_raw_data():\n",
    "    \"\"\"Return titles and lyrics.\"\"\"\n",
    "    \n",
    "    titles_lyrics = preprocess.load_from_pickle()\n",
    "    if titles_lyrics == None:\n",
    "        preprocess.preprocess()\n",
    "        titles_lyrics = preprocess.load_from_pickle()\n",
    "    return titles_lyrics"
   ]
  },
  {
   "cell_type": "code",
   "execution_count": 4,
   "metadata": {
    "collapsed": true
   },
   "outputs": [],
   "source": [
    "def lyrics_without_timing():\n",
    "    \"\"\"Return a list of lyrics, pure text, no timing\"\"\"\n",
    "    _, lyrics = load_raw_data()\n",
    "#     del_timing = lambda s: re.sub('\\[.*\\]', '', s).strip()\n",
    "#     lyrics = [[del_timing(sentence) for sentence in lyric if del_timing(sentence) != '']\\\n",
    "#              for lyric in lyrics]\n",
    "    \n",
    "    del_not_chinese = lambda s: re.sub(u'[^\\u4E00-\\u9FA5 ]', '', s).strip()\n",
    "    lyrics = [[del_not_chinese(sentence) for sentence in lyric\\\n",
    "               if del_not_chinese(sentence) != ''] for lyric in lyrics]\n",
    "    \n",
    "    lyrics = [[sentence for sentence in lyric\n",
    "               if '作词' not in sentence and '作曲' not in sentence\\\n",
    "               and '编曲' not in sentence and '词曲' not in sentence\\\n",
    "              ]for lyric in lyrics]\n",
    "\n",
    "    lyrics = [lyric for lyric in lyrics if len(lyric) > 15]\n",
    "    return lyrics"
   ]
  },
  {
   "cell_type": "code",
   "execution_count": 5,
   "metadata": {
    "collapsed": true
   },
   "outputs": [],
   "source": [
    "def q_a_lines(lyrics):\n",
    "    \"\"\"2 lists of sentences. Question and answer, respectively.\"\"\"\n",
    "    q, a = [], []\n",
    "    ori_len = 0\n",
    "    for lyric in lyrics:\n",
    "        ori_len += len(lyric)\n",
    "        for i in range(len(lyric) - 1):\n",
    "            qlen, alen = len(lyric[i]), len(lyric[i+1])\n",
    "            if qlen >= limit['minq'] and qlen <= limit['maxq']\\\n",
    "            and alen >= limit['mina'] and alen <= limit['maxa']:\n",
    "                q.append(lyric[i])\n",
    "                a.append(lyric[i+1])\n",
    "    \n",
    "    print('Q & A filtered {0}%'.format(100*(ori_len - len(q))/ori_len))\n",
    "    return q, a"
   ]
  },
  {
   "cell_type": "code",
   "execution_count": 6,
   "metadata": {
    "collapsed": true
   },
   "outputs": [],
   "source": [
    "def tokenize_single(qlines, alines):\n",
    "    \"\"\"Transfrom lines into lists of single characters.\n",
    "    \n",
    "    To do: tokenize_word\n",
    "    \"\"\"\n",
    "    qtokenized = [[character for character in sentence] for sentence in qlines]\n",
    "    atokenized = [[character for character in sentence] for sentence in alines]\n",
    "    return qtokenized, atokenized"
   ]
  },
  {
   "cell_type": "code",
   "execution_count": 7,
   "metadata": {
    "collapsed": true
   },
   "outputs": [],
   "source": [
    "def character_frequency(lyrics, vocab_size=3000, show=False):\n",
    "    \"\"\"Analyze Characters frequence.\n",
    "    \n",
    "    In a list of list of sentences.\n",
    "    Example: [[\"song1\", \"hello world\", \"end\"], [\"song2\", \"happy end\"]]\n",
    "    \"\"\"\n",
    "    import numpy as np\n",
    "    import itertools\n",
    "    from collections import Counter, defaultdict\n",
    "\n",
    "    iter_characters = itertools.chain(*itertools.chain(*lyrics))\n",
    "    frequency_list = Counter(iter_characters).most_common()\n",
    "    character, freq = zip(*frequency_list)\n",
    "    \n",
    "    if show:\n",
    "        import matplotlib.pyplot as plt\n",
    "        %matplotlib inline\n",
    "        plt.ylabel('frequency(log)')\n",
    "        plt.xlabel('rank')\n",
    "        plt.plot(range(len(frequency_list)), np.log(freq))\n",
    "        plt.show()\n",
    "        print('100 Most frequent word: {0}'.format(word[:100]))\n",
    "    return list(character[:vocab_size]), list(freq[:vocab_size])"
   ]
  },
  {
   "cell_type": "code",
   "execution_count": 8,
   "metadata": {
    "collapsed": true
   },
   "outputs": [],
   "source": [
    "def index(tokenized, vocab_size=3000):\n",
    "    \"\"\"Make volcabulary and lookup dictionary\"\"\"\n",
    "    word, freq = character_frequency(tokenized, vocab_size)\n",
    "    \n",
    "    index2word = ['_', UNK] + word\n",
    "    word2index = dict([(w, i) for i, w in enumerate(index2word)])\n",
    "    \n",
    "    return index2word, word2index"
   ]
  },
  {
   "cell_type": "code",
   "execution_count": 9,
   "metadata": {
    "collapsed": true
   },
   "outputs": [],
   "source": [
    "def pad_seq(line, w2idx, maxlen):\n",
    "    \"\"\"zero padding at the tail\"\"\"\n",
    "    padded = []\n",
    "    for word in line:\n",
    "        if word in w2idx:\n",
    "            padded.append(w2idx[word])\n",
    "        else:\n",
    "            padded.append(w2idx[UNK])\n",
    "    return np.array(padded + [0] * (maxlen - len(padded)))"
   ]
  },
  {
   "cell_type": "code",
   "execution_count": 10,
   "metadata": {
    "collapsed": true
   },
   "outputs": [],
   "source": [
    "def zero_padding(qtokenized, atokenized, w2idx):\n",
    "    \"\"\"tokenized word sequences to idx sequences\"\"\"\n",
    "    num_lines = len(qtokenized)\n",
    "    idx_q = np.zeros([num_lines, limit['maxq']], dtype=np.int32)\n",
    "    idx_a = np.zeros([num_lines, limit['maxa']], dtype=np.int32)\n",
    "    \n",
    "    for i in range(num_lines):\n",
    "        idx_q[i] = pad_seq(qtokenized[i], w2idx, limit['maxq'])\n",
    "        idx_a[i] = pad_seq(atokenized[i], w2idx, limit['maxa'])\n",
    "    \n",
    "    return idx_q[:, ::-1], idx_a"
   ]
  },
  {
   "cell_type": "code",
   "execution_count": 11,
   "metadata": {},
   "outputs": [
    {
     "ename": "NameError",
     "evalue": "name 'qtokenized' is not defined",
     "output_type": "error",
     "traceback": [
      "\u001b[0;31m---------------------------------------------------------------------------\u001b[0m",
      "\u001b[0;31mNameError\u001b[0m                                 Traceback (most recent call last)",
      "\u001b[0;32m<ipython-input-11-248f8bc545e5>\u001b[0m in \u001b[0;36m<module>\u001b[0;34m()\u001b[0m\n\u001b[1;32m      4\u001b[0m \u001b[0;31m#     qtokenized, atokenized = tokenize_single(qlines, alines)\u001b[0m\u001b[0;34m\u001b[0m\u001b[0;34m\u001b[0m\u001b[0m\n\u001b[1;32m      5\u001b[0m \u001b[0;31m#     idx2w, w2idx = index(qtokenized + atokenized)\u001b[0m\u001b[0;34m\u001b[0m\u001b[0;34m\u001b[0m\u001b[0m\n\u001b[0;32m----> 6\u001b[0;31m     \u001b[0midx_q\u001b[0m\u001b[0;34m,\u001b[0m \u001b[0midx_a\u001b[0m \u001b[0;34m=\u001b[0m \u001b[0mzero_padding\u001b[0m\u001b[0;34m(\u001b[0m\u001b[0mqtokenized\u001b[0m\u001b[0;34m,\u001b[0m \u001b[0matokenized\u001b[0m\u001b[0;34m,\u001b[0m \u001b[0mw2idx\u001b[0m\u001b[0;34m)\u001b[0m\u001b[0;34m\u001b[0m\u001b[0m\n\u001b[0m\u001b[1;32m      7\u001b[0m     \u001b[0mnp\u001b[0m\u001b[0;34m.\u001b[0m\u001b[0msave\u001b[0m\u001b[0;34m(\u001b[0m\u001b[0;34m'idx_q.npy'\u001b[0m\u001b[0;34m,\u001b[0m \u001b[0midx_q\u001b[0m\u001b[0;34m)\u001b[0m\u001b[0;34m\u001b[0m\u001b[0m\n\u001b[1;32m      8\u001b[0m     \u001b[0mnp\u001b[0m\u001b[0;34m.\u001b[0m\u001b[0msave\u001b[0m\u001b[0;34m(\u001b[0m\u001b[0;34m'idx_a.npy'\u001b[0m\u001b[0;34m,\u001b[0m \u001b[0midx_a\u001b[0m\u001b[0;34m)\u001b[0m\u001b[0;34m\u001b[0m\u001b[0m\n",
      "\u001b[0;31mNameError\u001b[0m: name 'qtokenized' is not defined"
     ]
    }
   ],
   "source": [
    "if __name__ == '__main__':\n",
    "    lyrics = lyrics_without_timing()\n",
    "    qlines, alines = q_a_lines(lyrics)\n",
    "    qtokenized, atokenized = tokenize_single(qlines, alines)\n",
    "    idx2w, w2idx = index(qtokenized + atokenized)\n",
    "    idx_q, idx_a = zero_padding(qtokenized, atokenized, w2idx)\n",
    "    np.save('idx_q.npy', idx_q)\n",
    "    np.save('idx_a.npy', idx_a)\n",
    "    metadata = {\n",
    "        'w2idx' : w2idx,\n",
    "        'idx2w' : idx2w\n",
    "    }\n",
    "    pickle.dump(metadata, open('metadata.pkl', 'wb'))"
   ]
  }
 ],
 "metadata": {
  "kernelspec": {
   "display_name": "Python 3",
   "language": "python",
   "name": "python3"
  },
  "language_info": {
   "codemirror_mode": {
    "name": "ipython",
    "version": 3
   },
   "file_extension": ".py",
   "mimetype": "text/x-python",
   "name": "python",
   "nbconvert_exporter": "python",
   "pygments_lexer": "ipython3",
   "version": "3.6.2"
  }
 },
 "nbformat": 4,
 "nbformat_minor": 2
}
