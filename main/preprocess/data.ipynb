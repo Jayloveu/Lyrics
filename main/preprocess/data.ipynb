{
 "cells": [
  {
   "cell_type": "code",
   "execution_count": 67,
   "metadata": {},
   "outputs": [],
   "source": [
    "import re\n",
    "import pickle\n",
    "import numpy as np\n",
    "import preprocess\n",
    "import random"
   ]
  },
  {
   "cell_type": "code",
   "execution_count": 2,
   "metadata": {
    "collapsed": true
   },
   "outputs": [],
   "source": [
    "def load_raw_data():\n",
    "    \"\"\"Return titles and lyrics.\"\"\"\n",
    "    \n",
    "    titles_lyrics = preprocess.load_from_pickle()\n",
    "    if titles_lyrics == None:\n",
    "        preprocess.preprocess()\n",
    "        titles_lyrics = preprocess.load_from_pickle()\n",
    "    return titles_lyrics"
   ]
  },
  {
   "cell_type": "code",
   "execution_count": 7,
   "metadata": {
    "collapsed": true
   },
   "outputs": [],
   "source": [
    "lyrics = load_raw_data()"
   ]
  },
  {
   "cell_type": "code",
   "execution_count": 64,
   "metadata": {
    "collapsed": true
   },
   "outputs": [],
   "source": [
    "def lyrics_without_timing():\n",
    "    \"\"\"Return a list of lyrics, pure text, no timing\"\"\"\n",
    "    _, lyrics = load_raw_data()\n",
    "#     del_timing = lambda s: re.sub('\\[.*\\]', '', s).strip()\n",
    "#     lyrics = [[del_timing(sentence) for sentence in lyric if del_timing(sentence) != '']\\\n",
    "#              for lyric in lyrics]\n",
    "    \n",
    "    del_not_chinese = lambda s: re.sub(u'[^\\u4E00-\\u9FA5 ]', '', s).strip()\n",
    "    lyrics = [[del_not_chinese(sentence) for sentence in lyric\\\n",
    "               if del_not_chinese(sentence) != ''] for lyric in lyrics]\n",
    "    \n",
    "    lyrics = [[sentence for sentence in lyric\n",
    "               if len(sentence) > 6\n",
    "               and '词曲' not in sentence and '作曲' not in sentence and\n",
    "               '编曲' not in sentence and '作词' not in sentence\n",
    "              ]for lyric in lyrics]\n",
    "\n",
    "    lyrics = [lyric[3:-1] for lyric in lyrics if len(lyric) > 15]\n",
    "    return lyrics"
   ]
  },
  {
   "cell_type": "code",
   "execution_count": 81,
   "metadata": {
    "collapsed": true
   },
   "outputs": [],
   "source": [
    "def multi_q_a_lines(lyrics):\n",
    "    \"\"\"2 lists of sentences. Question and answer, respectively.\"\"\"\n",
    "    q, a = [], []\n",
    "    ori_len = 0\n",
    "    for lyric in lyrics:\n",
    "        ori_len += len(lyric)\n",
    "        q_l = []\n",
    "        for i in range(len(lyric) - 1):\n",
    "            qlen, alen = len(lyric[i]), len(lyric[i+1])\n",
    "            q_l.append(lyric[i])\n",
    "            a.append(lyric[i+1])\n",
    "        for i, l in enumerate(q_l):\n",
    "            line = ''\n",
    "            if i - 3 >= 0:\n",
    "                line += q_l[i - 3] + '，'\n",
    "            if i - 2 >= 0:\n",
    "                line += q_l[i - 2] + '，'\n",
    "            if i - 1 >= 0:\n",
    "                line += q_l[i - 1] + '，'\n",
    "            line += q_l[i]\n",
    "            q.append(line)\n",
    "    return q, a"
   ]
  },
  {
   "cell_type": "code",
   "execution_count": 91,
   "metadata": {},
   "outputs": [
    {
     "name": "stdout",
     "output_type": "stream",
     "text": [
      "Q & A filtered 3.9630198882069894%\n",
      "1950755\n"
     ]
    }
   ],
   "source": [
    "if __name__ == '__main__':\n",
    "#     lyrics = lyrics_without_timing()\n",
    "#     random.shuffle(lyrics)\n",
    "    qlines, alines = multi_q_a_lines(lyrics)\n",
    "    print(len(qlines))\n",
    "    with open('train.enc', 'wb') as f:\n",
    "        for line in qlines[:1800000]:\n",
    "            f.write((line + '\\n').encode('utf8'))\n",
    "    with open('train.dec', 'wb') as f:\n",
    "        for line in alines[:1800000]:\n",
    "            f.write((line + '\\n').encode('utf8'))\n",
    "    with open('test.enc', 'wb') as f:\n",
    "        for line in qlines[1800000:]:\n",
    "            f.write((line + '\\n').encode('utf8'))\n",
    "    with open('test.dec', 'wb') as f:\n",
    "        for line in alines[1800000:]:\n",
    "            f.write((line + '\\n').encode('utf8'))"
   ]
  }
 ],
 "metadata": {
  "kernelspec": {
   "display_name": "Python 3",
   "language": "python",
   "name": "python3"
  },
  "language_info": {
   "codemirror_mode": {
    "name": "ipython",
    "version": 3
   },
   "file_extension": ".py",
   "mimetype": "text/x-python",
   "name": "python",
   "nbconvert_exporter": "python",
   "pygments_lexer": "ipython3",
   "version": "3.6.2"
  }
 },
 "nbformat": 4,
 "nbformat_minor": 2
}
